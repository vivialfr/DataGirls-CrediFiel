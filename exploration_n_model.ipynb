{
 "cells": [
  {
   "cell_type": "markdown",
   "id": "d6e86e4b",
   "metadata": {},
   "source": [
    "# Credi Fiel\n",
    "\n",
    "- Ana Paola Almeida\n",
    "- Cynthia Cristal\n",
    "- Daniela Marquez\n",
    "- Viviana Alanis"
   ]
  },
  {
   "cell_type": "markdown",
   "id": "68298353",
   "metadata": {},
   "source": [
    "## Importar librerías"
   ]
  },
  {
   "cell_type": "code",
   "execution_count": 65,
   "id": "247fcaa7",
   "metadata": {},
   "outputs": [],
   "source": [
    "import pandas as pd\n",
    "import pickle\n",
    "\n",
    "from itertools import product\n",
    "from sklearn.metrics import f1_score\n",
    "from datetime import datetime\n",
    "from sklearn.model_selection import GridSearchCV\n",
    "from sklearn.model_selection import train_test_split\n",
    "from sklearn.ensemble import RandomForestClassifier\n",
    "from sklearn.preprocessing import OneHotEncoder\n",
    "from sklearn.pipeline import make_pipeline\n",
    "from sklearn.compose import ColumnTransformer\n",
    "from sklearn.metrics import confusion_matrix, ConfusionMatrixDisplay"
   ]
  },
  {
   "cell_type": "markdown",
   "id": "c7e034b9",
   "metadata": {},
   "source": [
    "## Cargar datos"
   ]
  },
  {
   "cell_type": "code",
   "execution_count": 66,
   "id": "5dd6b3b7",
   "metadata": {},
   "outputs": [
    {
     "name": "stderr",
     "output_type": "stream",
     "text": [
      "C:\\Users\\HP\\AppData\\Local\\Temp\\ipykernel_16136\\256103267.py:2: DtypeWarning: Columns (8) have mixed types. Specify dtype option on import or set low_memory=False.\n",
      "  df_2023 = pd.read_csv(\"ExtraccionDomiVersionFinal/ListaCobroDetalle2023.csv\")\n"
     ]
    }
   ],
   "source": [
    "df_2022 = pd.read_csv(\"ExtraccionDomiVersionFinal/ListaCobroDetalle2022.csv\")\n",
    "df_2023 = pd.read_csv(\"ExtraccionDomiVersionFinal/ListaCobroDetalle2023.csv\")\n",
    "df_2024 = pd.read_csv(\"ExtraccionDomiVersionFinal/ListaCobroDetalle2024.csv\")\n",
    "df_2025 = pd.read_csv(\"ExtraccionDomiVersionFinal/ListaCobroDetalle2025.csv\")"
   ]
  },
  {
   "cell_type": "markdown",
   "id": "2900e1dd",
   "metadata": {},
   "source": [
    "## Diccionario"
   ]
  },
  {
   "cell_type": "code",
   "execution_count": 67,
   "id": "8ec3bdb0",
   "metadata": {},
   "outputs": [],
   "source": [
    "# El diccionario de reemplazos\n",
    "reemplazos_id_respuesta_banco = {\n",
    "    \"00\": [\"20\", \"DOM1\", \"INC0\"],\n",
    "    \"01\": [\"51\", \"DD00021\", \"DOM7\"],\n",
    "    \"02\": [\"52\", \"DD00025\", \"DOM10\", \"INC16\"],\n",
    "    \"03\": [\"53\", \"DD00026\", \"DOM5\", \"INC9\"],\n",
    "    \"04\": [\"DD00001\", \"DD00019\", \"DD00022\", \"DD00031\", \"DOM2\", \"DOM6\", \"INC23\", \"INC6\"],\n",
    "    \"05\": [],\n",
    "    \"06\": [],\n",
    "    \"07\": [\"DOM14\"],\n",
    "    \"08\": [],\n",
    "    \"09\": [\"DD00028\", \"DOM9\"],\n",
    "    \"10\": [\"DD00033\", \"DOM4\"],\n",
    "    \"11\": [\"24\"],\n",
    "    \"12\": [\"DD00020\", \"DOM12\", \"DOM13\", \"DOM8\"],\n",
    "    \"13\": [],\n",
    "    \"14\": [\"99\"],\n",
    "    \"15\": [\"81\"],\n",
    "    \"16\": [\"82\", \"83\"],\n",
    "    \"17\": [],\n",
    "    \"18\": [\"22\"],\n",
    "    \"19\": [],\n",
    "    \"21\": [],\n",
    "    \"23\": [],\n",
    "    \"25\": [\"DD00030\"],\n",
    "    \"26\": [\"INC7\"],\n",
    "    \"88\": [],\n",
    "    \"90\": [\"91\", \"92\", \"93\", \"94\", \"95\", \"96\", \"97\", \"98\", \"99\", \"100\"],\n",
    "    \"91\": [\"DD00023\", \"DD00027\", \"DD00029\", \"DD00034\", \"DD00035\", \"DD00037\", \"DD00038\", \"DD00039\", \"DD00040\", \"DOM11\", \"DOM3\", \"DD00041\", \"DD00042\"],\n",
    "    \"92\": [\"DD00024\"],\n",
    "    \"94\": [\"DD00036\", \"DD00043\"],\n",
    "    \"95\": [\"INC1\"],\n",
    "    \"96\": [\"INC10\"],\n",
    "    \"97\": [\"INC11\"],\n",
    "    \"98\": [\"INC15\"],\n",
    "    \"99\": [\"INC17\"],\n",
    "    \"100\": [\"INC18\"],\n",
    "    \"101\": [\"INC19\"],\n",
    "    \"102\": [\"INC2\"],\n",
    "    \"103\": [\"INC21\"],\n",
    "    \"104\": [\"INC22\"],\n",
    "    \"105\": [\"INC4\"],\n",
    "    \"106\": [\"INC3\"],\n",
    "    \"107\": [\"INC5\"],\n",
    "    \"108\": [\"INC8\"],\n",
    "}\n",
    "\n",
    "# Invertimos el diccionario para mapear de valor a código\n",
    "mapa_invertido = {valor: clave for clave, lista in reemplazos_id_respuesta_banco.items() for valor in lista}\n",
    "\n",
    "# Función para reemplazar\n",
    "def reemplazar_id_respuesta(df):\n",
    "    df[\"idRespuestaBanco\"] = df[\"idRespuestaBanco\"].map(mapa_invertido).fillna(df[\"idRespuestaBanco\"])\n",
    "    return df"
   ]
  },
  {
   "cell_type": "markdown",
   "id": "432a1b3a",
   "metadata": {},
   "source": [
    "### Aplicar función"
   ]
  },
  {
   "cell_type": "markdown",
   "id": "7babdb1b",
   "metadata": {},
   "source": [
    "#### 2022"
   ]
  },
  {
   "cell_type": "code",
   "execution_count": 68,
   "id": "3658be82",
   "metadata": {},
   "outputs": [],
   "source": [
    "df_2022_1 = reemplazar_id_respuesta(df_2022)"
   ]
  },
  {
   "cell_type": "code",
   "execution_count": 69,
   "id": "91aab809",
   "metadata": {},
   "outputs": [
    {
     "data": {
      "application/vnd.microsoft.datawrangler.viewer.v0+json": {
       "columns": [
        {
         "name": "idRespuestaBanco",
         "rawType": "object",
         "type": "string"
        },
        {
         "name": "count",
         "rawType": "int64",
         "type": "integer"
        }
       ],
       "ref": "c7be9dda-1ae7-4ed7-a46f-2b600f6e9643",
       "rows": [
        [
         "04",
         "290435"
        ],
        [
         "00",
         "11763"
        ],
        [
         "08",
         "2230"
        ],
        [
         "09",
         "1560"
        ],
        [
         "26",
         "1216"
        ],
        [
         "01",
         "1047"
        ],
        [
         "03",
         "665"
        ],
        [
         "02",
         "642"
        ],
        [
         "12",
         "461"
        ],
        [
         "30",
         "214"
        ],
        [
         "10",
         "47"
        ],
        [
         "13",
         "36"
        ],
        [
         "91",
         "24"
        ],
        [
         "19",
         "23"
        ],
        [
         "16",
         "1"
        ],
        [
         "88",
         "1"
        ]
       ],
       "shape": {
        "columns": 1,
        "rows": 16
       }
      },
      "text/plain": [
       "idRespuestaBanco\n",
       "04    290435\n",
       "00     11763\n",
       "08      2230\n",
       "09      1560\n",
       "26      1216\n",
       "01      1047\n",
       "03       665\n",
       "02       642\n",
       "12       461\n",
       "30       214\n",
       "10        47\n",
       "13        36\n",
       "91        24\n",
       "19        23\n",
       "16         1\n",
       "88         1\n",
       "Name: count, dtype: int64"
      ]
     },
     "execution_count": 69,
     "metadata": {},
     "output_type": "execute_result"
    }
   ],
   "source": [
    "df_2022_1[\"idRespuestaBanco\"].value_counts()"
   ]
  },
  {
   "cell_type": "markdown",
   "id": "9c9f463d",
   "metadata": {},
   "source": [
    "#### 2023"
   ]
  },
  {
   "cell_type": "code",
   "execution_count": 70,
   "id": "a79560ce",
   "metadata": {},
   "outputs": [],
   "source": [
    "# Reemplazar valores numéricos decimales por enteros en la columna idRespuestaBanco de todos los dataframes relevantes\n",
    "for df_temp in [df_2022, df_2023, df_2024, df_2025]:\n",
    "    df_temp[\"idRespuestaBanco\"] = df_temp[\"idRespuestaBanco\"].apply(\n",
    "        lambda x: f\"{int(x):02d}\" if (isinstance(x, float) and x.is_integer() and int(x) < 10) or (isinstance(x, int) and x < 10) else (str(int(x)) if (isinstance(x, float) and x.is_integer()) else x)\n",
    "    )"
   ]
  },
  {
   "cell_type": "code",
   "execution_count": 71,
   "id": "93da67ef",
   "metadata": {},
   "outputs": [],
   "source": [
    "df_2023_1 = reemplazar_id_respuesta(df_2023)"
   ]
  },
  {
   "cell_type": "code",
   "execution_count": 72,
   "id": "746cc572",
   "metadata": {},
   "outputs": [
    {
     "data": {
      "application/vnd.microsoft.datawrangler.viewer.v0+json": {
       "columns": [
        {
         "name": "idRespuestaBanco",
         "rawType": "object",
         "type": "string"
        },
        {
         "name": "count",
         "rawType": "int64",
         "type": "integer"
        }
       ],
       "ref": "7932b19c-24cd-4f9d-9d33-3e965ec2fb7a",
       "rows": [
        [
         "04",
         "1567133"
        ],
        [
         "00",
         "53500"
        ],
        [
         "13",
         "13122"
        ],
        [
         "26",
         "6774"
        ],
        [
         "08",
         "6014"
        ],
        [
         "01",
         "3573"
        ],
        [
         "12",
         "2950"
        ],
        [
         "02",
         "2941"
        ],
        [
         "03",
         "2763"
        ],
        [
         "30",
         "1361"
        ],
        [
         "09",
         "264"
        ],
        [
         "19",
         "205"
        ],
        [
         "36",
         "183"
        ],
        [
         "40",
         "164"
        ],
        [
         "91",
         "69"
        ],
        [
         "10",
         "53"
        ],
        [
         "42",
         "40"
        ],
        [
         "88",
         "23"
        ],
        [
         "18",
         "4"
        ]
       ],
       "shape": {
        "columns": 1,
        "rows": 19
       }
      },
      "text/plain": [
       "idRespuestaBanco\n",
       "04    1567133\n",
       "00      53500\n",
       "13      13122\n",
       "26       6774\n",
       "08       6014\n",
       "01       3573\n",
       "12       2950\n",
       "02       2941\n",
       "03       2763\n",
       "30       1361\n",
       "09        264\n",
       "19        205\n",
       "36        183\n",
       "40        164\n",
       "91         69\n",
       "10         53\n",
       "42         40\n",
       "88         23\n",
       "18          4\n",
       "Name: count, dtype: int64"
      ]
     },
     "execution_count": 72,
     "metadata": {},
     "output_type": "execute_result"
    }
   ],
   "source": [
    "df_2023_1[\"idRespuestaBanco\"].value_counts()"
   ]
  },
  {
   "cell_type": "markdown",
   "id": "903d80fe",
   "metadata": {},
   "source": [
    "#### 2024"
   ]
  },
  {
   "cell_type": "code",
   "execution_count": 73,
   "id": "275e4d09",
   "metadata": {},
   "outputs": [
    {
     "data": {
      "application/vnd.microsoft.datawrangler.viewer.v0+json": {
       "columns": [
        {
         "name": "idRespuestaBanco",
         "rawType": "object",
         "type": "string"
        },
        {
         "name": "count",
         "rawType": "int64",
         "type": "integer"
        }
       ],
       "ref": "f509ffc2-f404-402b-b3d5-b196d1589e20",
       "rows": [
        [
         "04",
         "5645833"
        ],
        [
         "00",
         "159088"
        ],
        [
         "13",
         "15961"
        ],
        [
         "26",
         "8085"
        ],
        [
         "02",
         "6070"
        ],
        [
         "03",
         "3301"
        ],
        [
         "08",
         "2410"
        ],
        [
         "01",
         "2224"
        ],
        [
         "36",
         "1154"
        ],
        [
         "30",
         "395"
        ],
        [
         "40",
         "131"
        ],
        [
         "88",
         "41"
        ],
        [
         "10",
         "15"
        ],
        [
         "84",
         "7"
        ],
        [
         "42",
         "2"
        ],
        [
         "37",
         "1"
        ],
        [
         "06",
         "1"
        ],
        [
         "18",
         "1"
        ]
       ],
       "shape": {
        "columns": 1,
        "rows": 18
       }
      },
      "text/plain": [
       "idRespuestaBanco\n",
       "04    5645833\n",
       "00     159088\n",
       "13      15961\n",
       "26       8085\n",
       "02       6070\n",
       "03       3301\n",
       "08       2410\n",
       "01       2224\n",
       "36       1154\n",
       "30        395\n",
       "40        131\n",
       "88         41\n",
       "10         15\n",
       "84          7\n",
       "42          2\n",
       "37          1\n",
       "06          1\n",
       "18          1\n",
       "Name: count, dtype: int64"
      ]
     },
     "execution_count": 73,
     "metadata": {},
     "output_type": "execute_result"
    }
   ],
   "source": [
    "df_2024_1 = reemplazar_id_respuesta(df_2024)\n",
    "df_2024_1[\"idRespuestaBanco\"].value_counts()"
   ]
  },
  {
   "cell_type": "markdown",
   "id": "a4ead386",
   "metadata": {},
   "source": [
    "#### 2025"
   ]
  },
  {
   "cell_type": "code",
   "execution_count": 74,
   "id": "9bba3875",
   "metadata": {},
   "outputs": [
    {
     "data": {
      "application/vnd.microsoft.datawrangler.viewer.v0+json": {
       "columns": [
        {
         "name": "idRespuestaBanco",
         "rawType": "object",
         "type": "string"
        },
        {
         "name": "count",
         "rawType": "int64",
         "type": "integer"
        }
       ],
       "ref": "56ce9948-f570-46c9-be2d-e64c88c2bd9e",
       "rows": [
        [
         "04",
         "2010908"
        ],
        [
         "00",
         "69552"
        ],
        [
         "13",
         "5894"
        ],
        [
         "08",
         "2693"
        ],
        [
         "26",
         "1074"
        ],
        [
         "03",
         "699"
        ],
        [
         "02",
         "569"
        ],
        [
         "01",
         "143"
        ],
        [
         "30",
         "82"
        ],
        [
         "40",
         "22"
        ],
        [
         "36",
         "11"
        ],
        [
         "88",
         "6"
        ],
        [
         "10",
         "4"
        ],
        [
         "06",
         "1"
        ]
       ],
       "shape": {
        "columns": 1,
        "rows": 14
       }
      },
      "text/plain": [
       "idRespuestaBanco\n",
       "04    2010908\n",
       "00      69552\n",
       "13       5894\n",
       "08       2693\n",
       "26       1074\n",
       "03        699\n",
       "02        569\n",
       "01        143\n",
       "30         82\n",
       "40         22\n",
       "36         11\n",
       "88          6\n",
       "10          4\n",
       "06          1\n",
       "Name: count, dtype: int64"
      ]
     },
     "execution_count": 74,
     "metadata": {},
     "output_type": "execute_result"
    }
   ],
   "source": [
    "df_2025_1 = reemplazar_id_respuesta(df_2025)\n",
    "df_2025_1[\"idRespuestaBanco\"].value_counts()"
   ]
  },
  {
   "cell_type": "markdown",
   "id": "f32352b2",
   "metadata": {},
   "source": [
    "## Acotar bases por año"
   ]
  },
  {
   "cell_type": "code",
   "execution_count": 75,
   "id": "eeb2fbfc",
   "metadata": {
    "vscode": {
     "languageId": "ruby"
    }
   },
   "outputs": [],
   "source": [
    "def muestreo_balanceado(df, n=10000):\n",
    "\n",
    "    # Muestreo de clase '00'\n",
    "    muestra_00 = df[df['idRespuestaBanco'] == '00'].sample(n=min(n, df['idRespuestaBanco'].eq('00').sum()), random_state=42)\n",
    "    \n",
    "    # Muestreo de otras clases\n",
    "    bancos_validos = [2, 12, 14, 72] # unicamente bancos con comision por registro enviado \n",
    "    df_filtrado = df[df['idBanco'].isin(bancos_validos)]\n",
    "    muestra_00 = df_filtrado[df_filtrado['idRespuestaBanco'] == '00'].sample(n=min(n, df_filtrado['idRespuestaBanco'].eq('00').sum()), random_state=42)\n",
    "    muestra_otros = df[df['idRespuestaBanco'] != '00'].sample(n=min(n, df['idRespuestaBanco'].ne('00').sum()), random_state=42)\n",
    "    \n",
    "    # Concatenar ambos\n",
    "    return pd.concat([muestra_00, muestra_otros], ignore_index=True)\n",
    "\n",
    "df_2022_1 = muestreo_balanceado(df_2022_1, 10000)\n",
    "df_2023_1 = muestreo_balanceado(df_2023_1, 10000)\n",
    "df_2024_1 = muestreo_balanceado(df_2024_1, 10000)\n",
    "df_2025_1 = muestreo_balanceado(df_2025_1, 10000)"
   ]
  },
  {
   "cell_type": "markdown",
   "id": "1a26171a",
   "metadata": {},
   "source": [
    "## Unir dataframes"
   ]
  },
  {
   "cell_type": "code",
   "execution_count": 76,
   "id": "83ebb204",
   "metadata": {},
   "outputs": [
    {
     "data": {
      "application/vnd.microsoft.datawrangler.viewer.v0+json": {
       "columns": [
        {
         "name": "index",
         "rawType": "int64",
         "type": "integer"
        },
        {
         "name": "idListaCobro",
         "rawType": "int64",
         "type": "integer"
        },
        {
         "name": "idCredito",
         "rawType": "int64",
         "type": "integer"
        },
        {
         "name": "consecutivoCobro",
         "rawType": "int64",
         "type": "integer"
        },
        {
         "name": "idBanco",
         "rawType": "int64",
         "type": "integer"
        },
        {
         "name": "montoExigible",
         "rawType": "float64",
         "type": "float"
        },
        {
         "name": "montoCobrar",
         "rawType": "float64",
         "type": "float"
        },
        {
         "name": "montoCobrado",
         "rawType": "float64",
         "type": "float"
        },
        {
         "name": "fechaCobroBanco",
         "rawType": "object",
         "type": "string"
        },
        {
         "name": "idRespuestaBanco",
         "rawType": "object",
         "type": "string"
        }
       ],
       "ref": "c278fde8-1dd5-4821-87ba-dc68559503da",
       "rows": [
        [
         "0",
         "105654",
         "526955",
         "29776700",
         "14",
         "312.89",
         "312.89",
         "312.89",
         "30/11/2022",
         "00"
        ],
        [
         "1",
         "103235",
         "550653",
         "29455488",
         "2",
         "185.37",
         "185.37",
         "185.37",
         "28/10/2022",
         "00"
        ],
        [
         "2",
         "105584",
         "636937",
         "29756190",
         "14",
         "222.53",
         "222.53",
         "222.53",
         "28/11/2022",
         "00"
        ],
        [
         "3",
         "105585",
         "368415",
         "29756597",
         "2",
         "433.37",
         "433.37",
         "433.37",
         "25/11/2022",
         "00"
        ],
        [
         "4",
         "102916",
         "402225",
         "29398987",
         "2",
         "683.26",
         "683.26",
         "683.26",
         "26/10/2022",
         "00"
        ]
       ],
       "shape": {
        "columns": 9,
        "rows": 5
       }
      },
      "text/html": [
       "<div>\n",
       "<style scoped>\n",
       "    .dataframe tbody tr th:only-of-type {\n",
       "        vertical-align: middle;\n",
       "    }\n",
       "\n",
       "    .dataframe tbody tr th {\n",
       "        vertical-align: top;\n",
       "    }\n",
       "\n",
       "    .dataframe thead th {\n",
       "        text-align: right;\n",
       "    }\n",
       "</style>\n",
       "<table border=\"1\" class=\"dataframe\">\n",
       "  <thead>\n",
       "    <tr style=\"text-align: right;\">\n",
       "      <th></th>\n",
       "      <th>idListaCobro</th>\n",
       "      <th>idCredito</th>\n",
       "      <th>consecutivoCobro</th>\n",
       "      <th>idBanco</th>\n",
       "      <th>montoExigible</th>\n",
       "      <th>montoCobrar</th>\n",
       "      <th>montoCobrado</th>\n",
       "      <th>fechaCobroBanco</th>\n",
       "      <th>idRespuestaBanco</th>\n",
       "    </tr>\n",
       "  </thead>\n",
       "  <tbody>\n",
       "    <tr>\n",
       "      <th>0</th>\n",
       "      <td>105654</td>\n",
       "      <td>526955</td>\n",
       "      <td>29776700</td>\n",
       "      <td>14</td>\n",
       "      <td>312.89</td>\n",
       "      <td>312.89</td>\n",
       "      <td>312.89</td>\n",
       "      <td>30/11/2022</td>\n",
       "      <td>00</td>\n",
       "    </tr>\n",
       "    <tr>\n",
       "      <th>1</th>\n",
       "      <td>103235</td>\n",
       "      <td>550653</td>\n",
       "      <td>29455488</td>\n",
       "      <td>2</td>\n",
       "      <td>185.37</td>\n",
       "      <td>185.37</td>\n",
       "      <td>185.37</td>\n",
       "      <td>28/10/2022</td>\n",
       "      <td>00</td>\n",
       "    </tr>\n",
       "    <tr>\n",
       "      <th>2</th>\n",
       "      <td>105584</td>\n",
       "      <td>636937</td>\n",
       "      <td>29756190</td>\n",
       "      <td>14</td>\n",
       "      <td>222.53</td>\n",
       "      <td>222.53</td>\n",
       "      <td>222.53</td>\n",
       "      <td>28/11/2022</td>\n",
       "      <td>00</td>\n",
       "    </tr>\n",
       "    <tr>\n",
       "      <th>3</th>\n",
       "      <td>105585</td>\n",
       "      <td>368415</td>\n",
       "      <td>29756597</td>\n",
       "      <td>2</td>\n",
       "      <td>433.37</td>\n",
       "      <td>433.37</td>\n",
       "      <td>433.37</td>\n",
       "      <td>25/11/2022</td>\n",
       "      <td>00</td>\n",
       "    </tr>\n",
       "    <tr>\n",
       "      <th>4</th>\n",
       "      <td>102916</td>\n",
       "      <td>402225</td>\n",
       "      <td>29398987</td>\n",
       "      <td>2</td>\n",
       "      <td>683.26</td>\n",
       "      <td>683.26</td>\n",
       "      <td>683.26</td>\n",
       "      <td>26/10/2022</td>\n",
       "      <td>00</td>\n",
       "    </tr>\n",
       "  </tbody>\n",
       "</table>\n",
       "</div>"
      ],
      "text/plain": [
       "   idListaCobro  idCredito  consecutivoCobro  idBanco  montoExigible  \\\n",
       "0        105654     526955          29776700       14         312.89   \n",
       "1        103235     550653          29455488        2         185.37   \n",
       "2        105584     636937          29756190       14         222.53   \n",
       "3        105585     368415          29756597        2         433.37   \n",
       "4        102916     402225          29398987        2         683.26   \n",
       "\n",
       "   montoCobrar  montoCobrado fechaCobroBanco idRespuestaBanco  \n",
       "0       312.89        312.89      30/11/2022               00  \n",
       "1       185.37        185.37      28/10/2022               00  \n",
       "2       222.53        222.53      28/11/2022               00  \n",
       "3       433.37        433.37      25/11/2022               00  \n",
       "4       683.26        683.26      26/10/2022               00  "
      ]
     },
     "execution_count": 76,
     "metadata": {},
     "output_type": "execute_result"
    }
   ],
   "source": [
    "# Juntar muestras a un df\n",
    "df = pd.concat([df_2022_1, df_2023_1, df_2024_1, df_2025_1], ignore_index=True)\n",
    "df.head()"
   ]
  },
  {
   "cell_type": "code",
   "execution_count": 77,
   "id": "324f8f84",
   "metadata": {},
   "outputs": [
    {
     "data": {
      "text/plain": [
       "(80000, 9)"
      ]
     },
     "execution_count": 77,
     "metadata": {},
     "output_type": "execute_result"
    }
   ],
   "source": [
    "df.shape"
   ]
  },
  {
   "cell_type": "code",
   "execution_count": 78,
   "id": "914db32b",
   "metadata": {},
   "outputs": [
    {
     "data": {
      "text/plain": [
       "Index(['idListaCobro', 'idCredito', 'consecutivoCobro', 'idBanco',\n",
       "       'montoExigible', 'montoCobrar', 'montoCobrado', 'fechaCobroBanco',\n",
       "       'idRespuestaBanco'],\n",
       "      dtype='object')"
      ]
     },
     "execution_count": 78,
     "metadata": {},
     "output_type": "execute_result"
    }
   ],
   "source": [
    "df.columns"
   ]
  },
  {
   "cell_type": "markdown",
   "id": "24f07a3f",
   "metadata": {},
   "source": [
    "## Eliminar columnas"
   ]
  },
  {
   "cell_type": "code",
   "execution_count": 79,
   "id": "1bd78028",
   "metadata": {},
   "outputs": [],
   "source": [
    "df = df.drop(columns=[\"consecutivoCobro\"])"
   ]
  },
  {
   "cell_type": "code",
   "execution_count": 80,
   "id": "0858dca2",
   "metadata": {},
   "outputs": [
    {
     "data": {
      "text/plain": [
       "Index(['idListaCobro', 'idCredito', 'idBanco', 'montoExigible', 'montoCobrar',\n",
       "       'montoCobrado', 'fechaCobroBanco', 'idRespuestaBanco'],\n",
       "      dtype='object')"
      ]
     },
     "execution_count": 80,
     "metadata": {},
     "output_type": "execute_result"
    }
   ],
   "source": [
    "df.columns"
   ]
  },
  {
   "cell_type": "markdown",
   "id": "897c4c61",
   "metadata": {},
   "source": [
    "## Crear columnas nunIntentosTot y numIntentosExitosos"
   ]
  },
  {
   "cell_type": "code",
   "execution_count": 81,
   "id": "73444053",
   "metadata": {},
   "outputs": [],
   "source": [
    "# Crear la columna \"numIntentosTot\" que cuenta el número total de intentos por idCredito\n",
    "df[\"numIntentosTot\"] = df.groupby(\"idCredito\")[\"idCredito\"].transform(\"count\")"
   ]
  },
  {
   "cell_type": "code",
   "execution_count": 84,
   "id": "44b9f348",
   "metadata": {},
   "outputs": [],
   "source": [
    "# Crear la columna \"numIntentosTot_2024\" que cuenta el número de intentos por idCredito solo para el año 2024\n",
    "df['fechaCobroBanco'] = pd.to_datetime(df['fechaCobroBanco'], dayfirst=True, errors='coerce')\n",
    "\n",
    "# Crear la columna \"numIntentosTot_2024\" que cuenta el número de intentos por idCredito solo para el año 2024\n",
    "df['numIntentosTot_2024'] = df.groupby('idCredito')['fechaCobroBanco'].transform(\n",
    "    lambda x: ((x.dt.year == 2024).sum() if x.notnull().any() else 0)\n",
    ")"
   ]
  },
  {
   "cell_type": "code",
   "execution_count": 85,
   "id": "fe019b0c",
   "metadata": {},
   "outputs": [],
   "source": [
    "# Crear la columna \"numIntentosExitosos\" que cuenta el número de intentos exitosos (idRespuestaBanco == '00') por idCredito\n",
    "df[\"numIntentosExitosos\"] = df.groupby(\"idCredito\")[\"idRespuestaBanco\"].transform(lambda x: (x == \"00\").sum())"
   ]
  },
  {
   "cell_type": "code",
   "execution_count": 86,
   "id": "03f69353",
   "metadata": {},
   "outputs": [
    {
     "data": {
      "application/vnd.microsoft.datawrangler.viewer.v0+json": {
       "columns": [
        {
         "name": "index",
         "rawType": "int64",
         "type": "integer"
        },
        {
         "name": "idListaCobro",
         "rawType": "int64",
         "type": "integer"
        },
        {
         "name": "idCredito",
         "rawType": "int64",
         "type": "integer"
        },
        {
         "name": "idBanco",
         "rawType": "int64",
         "type": "integer"
        },
        {
         "name": "montoExigible",
         "rawType": "float64",
         "type": "float"
        },
        {
         "name": "montoCobrar",
         "rawType": "float64",
         "type": "float"
        },
        {
         "name": "montoCobrado",
         "rawType": "float64",
         "type": "float"
        },
        {
         "name": "fechaCobroBanco",
         "rawType": "datetime64[ns]",
         "type": "datetime"
        },
        {
         "name": "idRespuestaBanco",
         "rawType": "object",
         "type": "string"
        },
        {
         "name": "numIntentosTot",
         "rawType": "int64",
         "type": "integer"
        },
        {
         "name": "numIntentosTot_2024",
         "rawType": "int64",
         "type": "integer"
        },
        {
         "name": "numIntentosExitosos",
         "rawType": "int64",
         "type": "integer"
        }
       ],
       "ref": "dff644f0-8ed9-4204-8d60-270d35cf848d",
       "rows": [
        [
         "0",
         "105654",
         "526955",
         "14",
         "312.89",
         "312.89",
         "312.89",
         "2022-11-30 00:00:00",
         "00",
         "2",
         "0",
         "2"
        ],
        [
         "1",
         "103235",
         "550653",
         "2",
         "185.37",
         "185.37",
         "185.37",
         "2022-10-28 00:00:00",
         "00",
         "2",
         "0",
         "1"
        ],
        [
         "2",
         "105584",
         "636937",
         "14",
         "222.53",
         "222.53",
         "222.53",
         "2022-11-28 00:00:00",
         "00",
         "4",
         "0",
         "3"
        ],
        [
         "3",
         "105585",
         "368415",
         "2",
         "433.37",
         "433.37",
         "433.37",
         "2022-11-25 00:00:00",
         "00",
         "5",
         "0",
         "2"
        ],
        [
         "4",
         "102916",
         "402225",
         "2",
         "683.26",
         "683.26",
         "683.26",
         "2022-10-26 00:00:00",
         "00",
         "6",
         "0",
         "6"
        ]
       ],
       "shape": {
        "columns": 11,
        "rows": 5
       }
      },
      "text/html": [
       "<div>\n",
       "<style scoped>\n",
       "    .dataframe tbody tr th:only-of-type {\n",
       "        vertical-align: middle;\n",
       "    }\n",
       "\n",
       "    .dataframe tbody tr th {\n",
       "        vertical-align: top;\n",
       "    }\n",
       "\n",
       "    .dataframe thead th {\n",
       "        text-align: right;\n",
       "    }\n",
       "</style>\n",
       "<table border=\"1\" class=\"dataframe\">\n",
       "  <thead>\n",
       "    <tr style=\"text-align: right;\">\n",
       "      <th></th>\n",
       "      <th>idListaCobro</th>\n",
       "      <th>idCredito</th>\n",
       "      <th>idBanco</th>\n",
       "      <th>montoExigible</th>\n",
       "      <th>montoCobrar</th>\n",
       "      <th>montoCobrado</th>\n",
       "      <th>fechaCobroBanco</th>\n",
       "      <th>idRespuestaBanco</th>\n",
       "      <th>numIntentosTot</th>\n",
       "      <th>numIntentosTot_2024</th>\n",
       "      <th>numIntentosExitosos</th>\n",
       "    </tr>\n",
       "  </thead>\n",
       "  <tbody>\n",
       "    <tr>\n",
       "      <th>0</th>\n",
       "      <td>105654</td>\n",
       "      <td>526955</td>\n",
       "      <td>14</td>\n",
       "      <td>312.89</td>\n",
       "      <td>312.89</td>\n",
       "      <td>312.89</td>\n",
       "      <td>2022-11-30</td>\n",
       "      <td>00</td>\n",
       "      <td>2</td>\n",
       "      <td>0</td>\n",
       "      <td>2</td>\n",
       "    </tr>\n",
       "    <tr>\n",
       "      <th>1</th>\n",
       "      <td>103235</td>\n",
       "      <td>550653</td>\n",
       "      <td>2</td>\n",
       "      <td>185.37</td>\n",
       "      <td>185.37</td>\n",
       "      <td>185.37</td>\n",
       "      <td>2022-10-28</td>\n",
       "      <td>00</td>\n",
       "      <td>2</td>\n",
       "      <td>0</td>\n",
       "      <td>1</td>\n",
       "    </tr>\n",
       "    <tr>\n",
       "      <th>2</th>\n",
       "      <td>105584</td>\n",
       "      <td>636937</td>\n",
       "      <td>14</td>\n",
       "      <td>222.53</td>\n",
       "      <td>222.53</td>\n",
       "      <td>222.53</td>\n",
       "      <td>2022-11-28</td>\n",
       "      <td>00</td>\n",
       "      <td>4</td>\n",
       "      <td>0</td>\n",
       "      <td>3</td>\n",
       "    </tr>\n",
       "    <tr>\n",
       "      <th>3</th>\n",
       "      <td>105585</td>\n",
       "      <td>368415</td>\n",
       "      <td>2</td>\n",
       "      <td>433.37</td>\n",
       "      <td>433.37</td>\n",
       "      <td>433.37</td>\n",
       "      <td>2022-11-25</td>\n",
       "      <td>00</td>\n",
       "      <td>5</td>\n",
       "      <td>0</td>\n",
       "      <td>2</td>\n",
       "    </tr>\n",
       "    <tr>\n",
       "      <th>4</th>\n",
       "      <td>102916</td>\n",
       "      <td>402225</td>\n",
       "      <td>2</td>\n",
       "      <td>683.26</td>\n",
       "      <td>683.26</td>\n",
       "      <td>683.26</td>\n",
       "      <td>2022-10-26</td>\n",
       "      <td>00</td>\n",
       "      <td>6</td>\n",
       "      <td>0</td>\n",
       "      <td>6</td>\n",
       "    </tr>\n",
       "  </tbody>\n",
       "</table>\n",
       "</div>"
      ],
      "text/plain": [
       "   idListaCobro  idCredito  idBanco  montoExigible  montoCobrar  montoCobrado  \\\n",
       "0        105654     526955       14         312.89       312.89        312.89   \n",
       "1        103235     550653        2         185.37       185.37        185.37   \n",
       "2        105584     636937       14         222.53       222.53        222.53   \n",
       "3        105585     368415        2         433.37       433.37        433.37   \n",
       "4        102916     402225        2         683.26       683.26        683.26   \n",
       "\n",
       "  fechaCobroBanco idRespuestaBanco  numIntentosTot  numIntentosTot_2024  \\\n",
       "0      2022-11-30               00               2                    0   \n",
       "1      2022-10-28               00               2                    0   \n",
       "2      2022-11-28               00               4                    0   \n",
       "3      2022-11-25               00               5                    0   \n",
       "4      2022-10-26               00               6                    0   \n",
       "\n",
       "   numIntentosExitosos  \n",
       "0                    2  \n",
       "1                    1  \n",
       "2                    3  \n",
       "3                    2  \n",
       "4                    6  "
      ]
     },
     "execution_count": 86,
     "metadata": {},
     "output_type": "execute_result"
    }
   ],
   "source": [
    "df.head()"
   ]
  },
  {
   "cell_type": "markdown",
   "id": "4f7f802e",
   "metadata": {},
   "source": [
    "## Tipo de Servicio"
   ]
  },
  {
   "cell_type": "code",
   "execution_count": 87,
   "id": "f2e715db",
   "metadata": {},
   "outputs": [
    {
     "data": {
      "application/vnd.microsoft.datawrangler.viewer.v0+json": {
       "columns": [
        {
         "name": "index",
         "rawType": "int64",
         "type": "integer"
        },
        {
         "name": "idcredito",
         "rawType": "int64",
         "type": "integer"
        },
        {
         "name": "pagare",
         "rawType": "float64",
         "type": "float"
        },
        {
         "name": "capital",
         "rawType": "float64",
         "type": "float"
        },
        {
         "name": "fechaAperturaCredito",
         "rawType": "object",
         "type": "string"
        }
       ],
       "ref": "a18f08a7-740c-453e-9282-55f9e614dc93",
       "rows": [
        [
         "0",
         "10456",
         "120379.68",
         "50000.0",
         "26/05/2008"
        ],
        [
         "1",
         "10439",
         "122306.4",
         "50800.0",
         "3/6/2008"
        ],
        [
         "2",
         "10297",
         "132333.12",
         "46000.0",
         "9/6/2008"
        ],
        [
         "3",
         "10327",
         "77535.84",
         "40000.0",
         "13/06/2008"
        ],
        [
         "4",
         "10073",
         "96304.32",
         "40000.0",
         "30/06/2008"
        ]
       ],
       "shape": {
        "columns": 4,
        "rows": 5
       }
      },
      "text/html": [
       "<div>\n",
       "<style scoped>\n",
       "    .dataframe tbody tr th:only-of-type {\n",
       "        vertical-align: middle;\n",
       "    }\n",
       "\n",
       "    .dataframe tbody tr th {\n",
       "        vertical-align: top;\n",
       "    }\n",
       "\n",
       "    .dataframe thead th {\n",
       "        text-align: right;\n",
       "    }\n",
       "</style>\n",
       "<table border=\"1\" class=\"dataframe\">\n",
       "  <thead>\n",
       "    <tr style=\"text-align: right;\">\n",
       "      <th></th>\n",
       "      <th>idcredito</th>\n",
       "      <th>pagare</th>\n",
       "      <th>capital</th>\n",
       "      <th>fechaAperturaCredito</th>\n",
       "    </tr>\n",
       "  </thead>\n",
       "  <tbody>\n",
       "    <tr>\n",
       "      <th>0</th>\n",
       "      <td>10456</td>\n",
       "      <td>120379.68</td>\n",
       "      <td>50000.0</td>\n",
       "      <td>26/05/2008</td>\n",
       "    </tr>\n",
       "    <tr>\n",
       "      <th>1</th>\n",
       "      <td>10439</td>\n",
       "      <td>122306.40</td>\n",
       "      <td>50800.0</td>\n",
       "      <td>3/6/2008</td>\n",
       "    </tr>\n",
       "    <tr>\n",
       "      <th>2</th>\n",
       "      <td>10297</td>\n",
       "      <td>132333.12</td>\n",
       "      <td>46000.0</td>\n",
       "      <td>9/6/2008</td>\n",
       "    </tr>\n",
       "    <tr>\n",
       "      <th>3</th>\n",
       "      <td>10327</td>\n",
       "      <td>77535.84</td>\n",
       "      <td>40000.0</td>\n",
       "      <td>13/06/2008</td>\n",
       "    </tr>\n",
       "    <tr>\n",
       "      <th>4</th>\n",
       "      <td>10073</td>\n",
       "      <td>96304.32</td>\n",
       "      <td>40000.0</td>\n",
       "      <td>30/06/2008</td>\n",
       "    </tr>\n",
       "  </tbody>\n",
       "</table>\n",
       "</div>"
      ],
      "text/plain": [
       "   idcredito     pagare  capital fechaAperturaCredito\n",
       "0      10456  120379.68  50000.0           26/05/2008\n",
       "1      10439  122306.40  50800.0             3/6/2008\n",
       "2      10297  132333.12  46000.0             9/6/2008\n",
       "3      10327   77535.84  40000.0           13/06/2008\n",
       "4      10073   96304.32  40000.0           30/06/2008"
      ]
     },
     "execution_count": 87,
     "metadata": {},
     "output_type": "execute_result"
    }
   ],
   "source": [
    "df_cap_pagare = pd.read_csv(\"ExtraccionDomiVersionFinal/Capital_Pagare_FechaAperturaCredito(in).csv\")\n",
    "df_cap_pagare.head()"
   ]
  },
  {
   "cell_type": "code",
   "execution_count": 88,
   "id": "2f0227fa",
   "metadata": {},
   "outputs": [
    {
     "data": {
      "application/vnd.microsoft.datawrangler.viewer.v0+json": {
       "columns": [
        {
         "name": "index",
         "rawType": "int64",
         "type": "integer"
        },
        {
         "name": "idEmisora",
         "rawType": "int64",
         "type": "integer"
        },
        {
         "name": "Nombre",
         "rawType": "object",
         "type": "string"
        },
        {
         "name": "IdBanco",
         "rawType": "int64",
         "type": "integer"
        },
        {
         "name": "Emisora",
         "rawType": "object",
         "type": "string"
        },
        {
         "name": "TipoEnvio",
         "rawType": "object",
         "type": "string"
        }
       ],
       "ref": "762bdcd3-887a-412c-8d45-53a12742fbaf",
       "rows": [
        [
         "0",
         "1",
         "BANAMEX CLABE TRADICIONAL",
         "2",
         "NoAplica",
         "TRADICIONAL"
        ],
        [
         "1",
         "2",
         "BANAMEX CUENTA",
         "2",
         "NoAplica",
         "CUENTA"
        ],
        [
         "2",
         "3",
         "BANAMEX TARJETA",
         "2",
         "NoAplica",
         "TARJETA"
        ],
        [
         "3",
         "4",
         "BANAMEX INTERBANCARIO",
         "2",
         "NoAplica",
         "INTERBANCARIO"
        ],
        [
         "4",
         "5",
         "BANAMEX TRADICIONAL REINTENTO",
         "2",
         "NoAplica",
         "TRADICIONAL"
        ]
       ],
       "shape": {
        "columns": 5,
        "rows": 5
       }
      },
      "text/html": [
       "<div>\n",
       "<style scoped>\n",
       "    .dataframe tbody tr th:only-of-type {\n",
       "        vertical-align: middle;\n",
       "    }\n",
       "\n",
       "    .dataframe tbody tr th {\n",
       "        vertical-align: top;\n",
       "    }\n",
       "\n",
       "    .dataframe thead th {\n",
       "        text-align: right;\n",
       "    }\n",
       "</style>\n",
       "<table border=\"1\" class=\"dataframe\">\n",
       "  <thead>\n",
       "    <tr style=\"text-align: right;\">\n",
       "      <th></th>\n",
       "      <th>idEmisora</th>\n",
       "      <th>Nombre</th>\n",
       "      <th>IdBanco</th>\n",
       "      <th>Emisora</th>\n",
       "      <th>TipoEnvio</th>\n",
       "    </tr>\n",
       "  </thead>\n",
       "  <tbody>\n",
       "    <tr>\n",
       "      <th>0</th>\n",
       "      <td>1</td>\n",
       "      <td>BANAMEX CLABE TRADICIONAL</td>\n",
       "      <td>2</td>\n",
       "      <td>NoAplica</td>\n",
       "      <td>TRADICIONAL</td>\n",
       "    </tr>\n",
       "    <tr>\n",
       "      <th>1</th>\n",
       "      <td>2</td>\n",
       "      <td>BANAMEX CUENTA</td>\n",
       "      <td>2</td>\n",
       "      <td>NoAplica</td>\n",
       "      <td>CUENTA</td>\n",
       "    </tr>\n",
       "    <tr>\n",
       "      <th>2</th>\n",
       "      <td>3</td>\n",
       "      <td>BANAMEX TARJETA</td>\n",
       "      <td>2</td>\n",
       "      <td>NoAplica</td>\n",
       "      <td>TARJETA</td>\n",
       "    </tr>\n",
       "    <tr>\n",
       "      <th>3</th>\n",
       "      <td>4</td>\n",
       "      <td>BANAMEX INTERBANCARIO</td>\n",
       "      <td>2</td>\n",
       "      <td>NoAplica</td>\n",
       "      <td>INTERBANCARIO</td>\n",
       "    </tr>\n",
       "    <tr>\n",
       "      <th>4</th>\n",
       "      <td>5</td>\n",
       "      <td>BANAMEX TRADICIONAL REINTENTO</td>\n",
       "      <td>2</td>\n",
       "      <td>NoAplica</td>\n",
       "      <td>TRADICIONAL</td>\n",
       "    </tr>\n",
       "  </tbody>\n",
       "</table>\n",
       "</div>"
      ],
      "text/plain": [
       "   idEmisora                         Nombre  IdBanco   Emisora      TipoEnvio\n",
       "0          1      BANAMEX CLABE TRADICIONAL        2  NoAplica    TRADICIONAL\n",
       "1          2                 BANAMEX CUENTA        2  NoAplica         CUENTA\n",
       "2          3                BANAMEX TARJETA        2  NoAplica        TARJETA\n",
       "3          4          BANAMEX INTERBANCARIO        2  NoAplica  INTERBANCARIO\n",
       "4          5  BANAMEX TRADICIONAL REINTENTO        2  NoAplica    TRADICIONAL"
      ]
     },
     "execution_count": 88,
     "metadata": {},
     "output_type": "execute_result"
    }
   ],
   "source": [
    "df_catEmisora = pd.read_csv(\"ExtraccionDomiVersionFinal/CatEmisora(in).csv\")\n",
    "df_catEmisora.head()"
   ]
  },
  {
   "cell_type": "code",
   "execution_count": 89,
   "id": "73dafe46",
   "metadata": {},
   "outputs": [
    {
     "data": {
      "application/vnd.microsoft.datawrangler.viewer.v0+json": {
       "columns": [
        {
         "name": "index",
         "rawType": "int64",
         "type": "integer"
        },
        {
         "name": "idListaCobro",
         "rawType": "int64",
         "type": "integer"
        },
        {
         "name": "idEmisora",
         "rawType": "int64",
         "type": "integer"
        }
       ],
       "ref": "5db407df-e212-4985-bf7d-e798169d7a92",
       "rows": [
        [
         "0",
         "79678",
         "20"
        ],
        [
         "1",
         "80111",
         "20"
        ],
        [
         "2",
         "80584",
         "20"
        ],
        [
         "3",
         "80941",
         "19"
        ],
        [
         "4",
         "81214",
         "20"
        ]
       ],
       "shape": {
        "columns": 2,
        "rows": 5
       }
      },
      "text/html": [
       "<div>\n",
       "<style scoped>\n",
       "    .dataframe tbody tr th:only-of-type {\n",
       "        vertical-align: middle;\n",
       "    }\n",
       "\n",
       "    .dataframe tbody tr th {\n",
       "        vertical-align: top;\n",
       "    }\n",
       "\n",
       "    .dataframe thead th {\n",
       "        text-align: right;\n",
       "    }\n",
       "</style>\n",
       "<table border=\"1\" class=\"dataframe\">\n",
       "  <thead>\n",
       "    <tr style=\"text-align: right;\">\n",
       "      <th></th>\n",
       "      <th>idListaCobro</th>\n",
       "      <th>idEmisora</th>\n",
       "    </tr>\n",
       "  </thead>\n",
       "  <tbody>\n",
       "    <tr>\n",
       "      <th>0</th>\n",
       "      <td>79678</td>\n",
       "      <td>20</td>\n",
       "    </tr>\n",
       "    <tr>\n",
       "      <th>1</th>\n",
       "      <td>80111</td>\n",
       "      <td>20</td>\n",
       "    </tr>\n",
       "    <tr>\n",
       "      <th>2</th>\n",
       "      <td>80584</td>\n",
       "      <td>20</td>\n",
       "    </tr>\n",
       "    <tr>\n",
       "      <th>3</th>\n",
       "      <td>80941</td>\n",
       "      <td>19</td>\n",
       "    </tr>\n",
       "    <tr>\n",
       "      <th>4</th>\n",
       "      <td>81214</td>\n",
       "      <td>20</td>\n",
       "    </tr>\n",
       "  </tbody>\n",
       "</table>\n",
       "</div>"
      ],
      "text/plain": [
       "   idListaCobro  idEmisora\n",
       "0         79678         20\n",
       "1         80111         20\n",
       "2         80584         20\n",
       "3         80941         19\n",
       "4         81214         20"
      ]
     },
     "execution_count": 89,
     "metadata": {},
     "output_type": "execute_result"
    }
   ],
   "source": [
    "df_listaCobroEmisora = pd.read_csv(\"ExtraccionDomiVersionFinal/ListaCobroEmisora.csv\")\n",
    "df_listaCobroEmisora.head()"
   ]
  },
  {
   "cell_type": "code",
   "execution_count": 90,
   "id": "e8acb221",
   "metadata": {},
   "outputs": [],
   "source": [
    "df = df.merge(df_cap_pagare, left_on=\"idCredito\", right_on=\"idcredito\", how=\"left\")"
   ]
  },
  {
   "cell_type": "code",
   "execution_count": 91,
   "id": "076c3ea2",
   "metadata": {},
   "outputs": [],
   "source": [
    "df = df.merge(df_listaCobroEmisora, left_on=\"idListaCobro\", right_on=\"idListaCobro\", how=\"left\")"
   ]
  },
  {
   "cell_type": "code",
   "execution_count": 92,
   "id": "2559b953",
   "metadata": {},
   "outputs": [],
   "source": [
    "df = df.merge(df_catEmisora, left_on=\"idEmisora\", right_on=\"idEmisora\", how=\"left\")"
   ]
  },
  {
   "cell_type": "code",
   "execution_count": 93,
   "id": "581bcc77",
   "metadata": {},
   "outputs": [],
   "source": [
    "def servicio_corregido(nombre):\n",
    "    nombre = str(nombre).lower()\n",
    "    if 'interbancaria' in nombre or 'interbancario' in nombre:\n",
    "        return 'Interbancario'\n",
    "    elif 'tradicional' in nombre:\n",
    "        return 'Tradicional'\n",
    "    elif 'parcial' in nombre:\n",
    "        return 'Parcial'\n",
    "    elif 'matutino' in nombre:\n",
    "        return 'matutino'\n",
    "    elif 'en linea' in nombre:\n",
    "        return 'En linea'\n",
    "    else:\n",
    "        return 'No aplica'"
   ]
  },
  {
   "cell_type": "code",
   "execution_count": 94,
   "id": "bbea4ede",
   "metadata": {},
   "outputs": [],
   "source": [
    "df['TipoEnvio'] = df['TipoEnvio'].copy()\n",
    "df['Servicio'] = df['Nombre'].apply(servicio_corregido)\n",
    "df = df.drop(columns=['TipoEnvio'])"
   ]
  },
  {
   "cell_type": "markdown",
   "id": "0340d7cf",
   "metadata": {},
   "source": [
    "## Antiguedad de credito"
   ]
  },
  {
   "cell_type": "code",
   "execution_count": 95,
   "id": "6a348a59",
   "metadata": {},
   "outputs": [],
   "source": [
    "# Crear variable de fecha actual\n",
    "fecha_actual = pd.Timestamp(datetime.now().date())\n",
    "\n",
    "# Convertir columnas de fecha a tipo datetime\n",
    "df['fechaCobroBanco'] = pd.to_datetime(df['fechaCobroBanco'], dayfirst=True, errors='coerce')\n",
    "df['fechaAperturaCredito'] = pd.to_datetime(df['fechaAperturaCredito'], dayfirst=True, errors='coerce')\n",
    "\n",
    "# Calcular antigüedad como la diferencia en días entre la fecha actual y la fecha de apertura del crédito\n",
    "df['antiguedad'] = (fecha_actual - df['fechaAperturaCredito']).dt.days"
   ]
  },
  {
   "cell_type": "code",
   "execution_count": 96,
   "id": "289faca3",
   "metadata": {},
   "outputs": [
    {
     "data": {
      "application/vnd.microsoft.datawrangler.viewer.v0+json": {
       "columns": [
        {
         "name": "index",
         "rawType": "object",
         "type": "string"
        },
        {
         "name": "0",
         "rawType": "int64",
         "type": "integer"
        }
       ],
       "ref": "c203c0af-7eee-43d2-8adc-effbb8676016",
       "rows": [
        [
         "idListaCobro",
         "0"
        ],
        [
         "idCredito",
         "0"
        ],
        [
         "idBanco",
         "0"
        ],
        [
         "montoExigible",
         "0"
        ],
        [
         "montoCobrar",
         "0"
        ],
        [
         "montoCobrado",
         "0"
        ],
        [
         "fechaCobroBanco",
         "39685"
        ],
        [
         "idRespuestaBanco",
         "1719"
        ],
        [
         "numIntentosTot",
         "0"
        ],
        [
         "numIntentosTot_2024",
         "0"
        ],
        [
         "numIntentosExitosos",
         "0"
        ],
        [
         "idcredito",
         "6"
        ],
        [
         "pagare",
         "6"
        ],
        [
         "capital",
         "6"
        ],
        [
         "fechaAperturaCredito",
         "6"
        ],
        [
         "idEmisora",
         "0"
        ],
        [
         "Nombre",
         "155"
        ],
        [
         "IdBanco",
         "155"
        ],
        [
         "Emisora",
         "155"
        ],
        [
         "Servicio",
         "0"
        ],
        [
         "antiguedad",
         "6"
        ]
       ],
       "shape": {
        "columns": 1,
        "rows": 21
       }
      },
      "text/plain": [
       "idListaCobro                0\n",
       "idCredito                   0\n",
       "idBanco                     0\n",
       "montoExigible               0\n",
       "montoCobrar                 0\n",
       "montoCobrado                0\n",
       "fechaCobroBanco         39685\n",
       "idRespuestaBanco         1719\n",
       "numIntentosTot              0\n",
       "numIntentosTot_2024         0\n",
       "numIntentosExitosos         0\n",
       "idcredito                   6\n",
       "pagare                      6\n",
       "capital                     6\n",
       "fechaAperturaCredito        6\n",
       "idEmisora                   0\n",
       "Nombre                    155\n",
       "IdBanco                   155\n",
       "Emisora                   155\n",
       "Servicio                    0\n",
       "antiguedad                  6\n",
       "dtype: int64"
      ]
     },
     "execution_count": 96,
     "metadata": {},
     "output_type": "execute_result"
    }
   ],
   "source": [
    "df.isnull().sum()"
   ]
  },
  {
   "cell_type": "markdown",
   "id": "98130b3c",
   "metadata": {},
   "source": [
    "## Tratar valores nulos"
   ]
  },
  {
   "cell_type": "code",
   "execution_count": 97,
   "id": "e62dc877",
   "metadata": {},
   "outputs": [],
   "source": [
    "df = df[df[['idcredito', 'idRespuestaBanco']].notnull().all(axis=1)]"
   ]
  },
  {
   "cell_type": "code",
   "execution_count": 98,
   "id": "dd67bb4a",
   "metadata": {},
   "outputs": [
    {
     "data": {
      "application/vnd.microsoft.datawrangler.viewer.v0+json": {
       "columns": [
        {
         "name": "index",
         "rawType": "object",
         "type": "string"
        },
        {
         "name": "0",
         "rawType": "int64",
         "type": "integer"
        }
       ],
       "ref": "d641d362-577a-4801-9b55-197dc0d1b9a0",
       "rows": [
        [
         "idListaCobro",
         "0"
        ],
        [
         "idCredito",
         "0"
        ],
        [
         "idBanco",
         "0"
        ],
        [
         "montoExigible",
         "0"
        ],
        [
         "montoCobrar",
         "0"
        ],
        [
         "montoCobrado",
         "0"
        ],
        [
         "fechaCobroBanco",
         "38275"
        ],
        [
         "idRespuestaBanco",
         "0"
        ],
        [
         "numIntentosTot",
         "0"
        ],
        [
         "numIntentosTot_2024",
         "0"
        ],
        [
         "numIntentosExitosos",
         "0"
        ],
        [
         "idcredito",
         "0"
        ],
        [
         "pagare",
         "0"
        ],
        [
         "capital",
         "0"
        ],
        [
         "fechaAperturaCredito",
         "0"
        ],
        [
         "idEmisora",
         "0"
        ],
        [
         "Nombre",
         "0"
        ],
        [
         "IdBanco",
         "0"
        ],
        [
         "Emisora",
         "0"
        ],
        [
         "Servicio",
         "0"
        ],
        [
         "antiguedad",
         "0"
        ]
       ],
       "shape": {
        "columns": 1,
        "rows": 21
       }
      },
      "text/plain": [
       "idListaCobro                0\n",
       "idCredito                   0\n",
       "idBanco                     0\n",
       "montoExigible               0\n",
       "montoCobrar                 0\n",
       "montoCobrado                0\n",
       "fechaCobroBanco         38275\n",
       "idRespuestaBanco            0\n",
       "numIntentosTot              0\n",
       "numIntentosTot_2024         0\n",
       "numIntentosExitosos         0\n",
       "idcredito                   0\n",
       "pagare                      0\n",
       "capital                     0\n",
       "fechaAperturaCredito        0\n",
       "idEmisora                   0\n",
       "Nombre                      0\n",
       "IdBanco                     0\n",
       "Emisora                     0\n",
       "Servicio                    0\n",
       "antiguedad                  0\n",
       "dtype: int64"
      ]
     },
     "execution_count": 98,
     "metadata": {},
     "output_type": "execute_result"
    }
   ],
   "source": [
    "df.isnull().sum()"
   ]
  },
  {
   "cell_type": "code",
   "execution_count": 99,
   "id": "a3f61801",
   "metadata": {},
   "outputs": [
    {
     "data": {
      "application/vnd.microsoft.datawrangler.viewer.v0+json": {
       "columns": [
        {
         "name": "index",
         "rawType": "int64",
         "type": "integer"
        },
        {
         "name": "idListaCobro",
         "rawType": "int64",
         "type": "integer"
        },
        {
         "name": "idCredito",
         "rawType": "int64",
         "type": "integer"
        },
        {
         "name": "idBanco",
         "rawType": "int64",
         "type": "integer"
        },
        {
         "name": "montoExigible",
         "rawType": "float64",
         "type": "float"
        },
        {
         "name": "montoCobrar",
         "rawType": "float64",
         "type": "float"
        },
        {
         "name": "montoCobrado",
         "rawType": "float64",
         "type": "float"
        },
        {
         "name": "fechaCobroBanco",
         "rawType": "datetime64[ns]",
         "type": "datetime"
        },
        {
         "name": "idRespuestaBanco",
         "rawType": "object",
         "type": "string"
        },
        {
         "name": "numIntentosTot",
         "rawType": "int64",
         "type": "integer"
        },
        {
         "name": "numIntentosTot_2024",
         "rawType": "int64",
         "type": "integer"
        },
        {
         "name": "numIntentosExitosos",
         "rawType": "int64",
         "type": "integer"
        },
        {
         "name": "pagare",
         "rawType": "float64",
         "type": "float"
        },
        {
         "name": "capital",
         "rawType": "float64",
         "type": "float"
        },
        {
         "name": "fechaAperturaCredito",
         "rawType": "datetime64[ns]",
         "type": "datetime"
        },
        {
         "name": "idEmisora",
         "rawType": "int64",
         "type": "integer"
        },
        {
         "name": "Nombre",
         "rawType": "object",
         "type": "string"
        },
        {
         "name": "IdBanco",
         "rawType": "float64",
         "type": "float"
        },
        {
         "name": "Emisora",
         "rawType": "object",
         "type": "string"
        },
        {
         "name": "Servicio",
         "rawType": "object",
         "type": "string"
        },
        {
         "name": "antiguedad",
         "rawType": "float64",
         "type": "float"
        }
       ],
       "ref": "d4ea88d5-abb4-40ab-8f41-674b040b6ce0",
       "rows": [
        [
         "0",
         "105654",
         "526955",
         "14",
         "312.89",
         "312.89",
         "312.89",
         "2022-11-30 00:00:00",
         "00",
         "2",
         "0",
         "2",
         "50216.4",
         "20400.0",
         "2019-12-10 00:00:00",
         "21",
         "BBVA CLABE EN LINEA",
         "12.0",
         "7455",
         "En linea",
         "1993.0"
        ],
        [
         "1",
         "103235",
         "550653",
         "2",
         "185.37",
         "185.37",
         "185.37",
         "2022-10-28 00:00:00",
         "00",
         "2",
         "0",
         "1",
         "8897.76",
         "5000.0",
         "2020-07-02 00:00:00",
         "36",
         "Banamex Reintentos                                ",
         "2.0",
         "noAplica",
         "No aplica",
         "1788.0"
        ],
        [
         "2",
         "105584",
         "636937",
         "14",
         "222.53",
         "222.53",
         "222.53",
         "2022-11-28 00:00:00",
         "00",
         "4",
         "0",
         "3",
         "21362.88",
         "8000.0",
         "2022-09-26 00:00:00",
         "21",
         "BBVA CLABE EN LINEA",
         "12.0",
         "7455",
         "En linea",
         "972.0"
        ],
        [
         "3",
         "105585",
         "368415",
         "2",
         "433.37",
         "433.37",
         "433.37",
         "2022-11-25 00:00:00",
         "00",
         "5",
         "0",
         "2",
         "41603.52",
         "17909.33",
         "2017-01-27 00:00:00",
         "23",
         "BBVA CLABE PARCIAL",
         "12.0",
         "6111",
         "Parcial",
         "3040.0"
        ],
        [
         "4",
         "102916",
         "402225",
         "2",
         "683.26",
         "683.26",
         "683.26",
         "2022-10-26 00:00:00",
         "00",
         "6",
         "0",
         "6",
         "81991.2",
         "29998.47",
         "2017-09-26 00:00:00",
         "23",
         "BBVA CLABE PARCIAL",
         "12.0",
         "6111",
         "Parcial",
         "2798.0"
        ],
        [
         "5",
         "100025",
         "468505",
         "2",
         "101.18",
         "101.18",
         "101.18",
         "2022-09-27 00:00:00",
         "00",
         "10",
         "0",
         "10",
         "10522.2",
         "4157.0",
         "2018-12-26 00:00:00",
         "51",
         "Banamex Excepciones Cuenta                        ",
         "2.0",
         "noAplica",
         "No aplica",
         "2342.0"
        ],
        [
         "6",
         "105044",
         "498096",
         "2",
         "195.84",
         "195.84",
         "195.84",
         "2022-11-17 00:00:00",
         "00",
         "3",
         "0",
         "1",
         "47998.08",
         "17974.0",
         "2019-07-08 00:00:00",
         "36",
         "Banamex Reintentos                                ",
         "2.0",
         "noAplica",
         "No aplica",
         "2148.0"
        ],
        [
         "7",
         "95634",
         "399128",
         "14",
         "1340.74",
         "1340.74",
         "1340.74",
         "2022-08-01 00:00:00",
         "00",
         "3",
         "0",
         "3",
         "52288.86",
         "30000.0",
         "2017-09-06 00:00:00",
         "68",
         "Santander Excepciones Cuenta                      ",
         "14.0",
         "623",
         "No aplica",
         "2818.0"
        ],
        [
         "8",
         "106683",
         "631330",
         "14",
         "1197.95",
         "1197.95",
         "1197.95",
         "2022-12-14 00:00:00",
         "00",
         "2",
         "0",
         "1",
         "115003.2",
         "39000.0",
         "2022-08-03 00:00:00",
         "21",
         "BBVA CLABE EN LINEA",
         "12.0",
         "7455",
         "En linea",
         "1026.0"
        ],
        [
         "9",
         "101558",
         "614375",
         "14",
         "519.03",
         "519.03",
         "519.03",
         "2022-10-14 00:00:00",
         "00",
         "3",
         "0",
         "3",
         "24913.44",
         "14000.0",
         "2022-02-18 00:00:00",
         "21",
         "BBVA CLABE EN LINEA",
         "12.0",
         "7455",
         "En linea",
         "1192.0"
        ],
        [
         "10",
         "85819",
         "617065",
         "72",
         "726.71",
         "726.71",
         "726.71",
         "2022-03-25 00:00:00",
         "00",
         "1",
         "0",
         "1",
         "26161.56",
         "15000.0",
         "2022-03-14 00:00:00",
         "25",
         "BBVA CLABE INTERBANCARIA",
         "12.0",
         "7167",
         "Interbancario",
         "1168.0"
        ],
        [
         "11",
         "107320",
         "604933",
         "2",
         "331.04",
         "331.04",
         "331.04",
         "2022-12-15 00:00:00",
         "00",
         "5",
         "2",
         "3",
         "48151.68",
         "18357.0",
         "2021-10-13 00:00:00",
         "36",
         "Banamex Reintentos                                ",
         "2.0",
         "noAplica",
         "No aplica",
         "1320.0"
        ],
        [
         "12",
         "106683",
         "627086",
         "14",
         "782.3",
         "782.3",
         "782.3",
         "2022-12-09 00:00:00",
         "00",
         "1",
         "0",
         "1",
         "75100.8",
         "30000.0",
         "2022-06-22 00:00:00",
         "21",
         "BBVA CLABE EN LINEA",
         "12.0",
         "7455",
         "En linea",
         "1068.0"
        ],
        [
         "13",
         "108096",
         "536002",
         "12",
         "677.49",
         "677.49",
         "677.49",
         "2022-12-27 00:00:00",
         "00",
         "8",
         "0",
         "8",
         "48779.28",
         "21652.73",
         "2020-02-21 00:00:00",
         "79",
         "Bancomer Tradicional                              ",
         "12.0",
         "7167",
         "Tradicional",
         "1920.0"
        ],
        [
         "14",
         "101457",
         "611846",
         "72",
         "2617.91",
         "2617.91",
         "2617.91",
         "2022-10-11 00:00:00",
         "00",
         "2",
         "0",
         "1",
         "188489.52",
         "83669.0",
         "2022-01-27 00:00:00",
         "25",
         "BBVA CLABE INTERBANCARIA",
         "12.0",
         "7167",
         "Interbancario",
         "1214.0"
        ],
        [
         "15",
         "85819",
         "586428",
         "72",
         "248.87",
         "248.87",
         "248.87",
         "2022-03-25 00:00:00",
         "00",
         "1",
         "0",
         "1",
         "11945.76",
         "4051.0",
         "2021-04-29 00:00:00",
         "25",
         "BBVA CLABE INTERBANCARIA",
         "12.0",
         "7167",
         "Interbancario",
         "1487.0"
        ],
        [
         "16",
         "102919",
         "625360",
         "72",
         "764.67",
         "764.67",
         "764.67",
         "2022-10-26 00:00:00",
         "00",
         "2",
         "0",
         "2",
         "36704.16",
         "20000.0",
         "2022-06-07 00:00:00",
         "25",
         "BBVA CLABE INTERBANCARIA",
         "12.0",
         "7167",
         "Interbancario",
         "1083.0"
        ],
        [
         "17",
         "104888",
         "439194",
         "2",
         "125.0",
         "125.0",
         "125.0",
         "2022-11-15 00:00:00",
         "00",
         "6",
         "0",
         "5",
         "27033.84",
         "12000.11",
         "2018-05-21 00:00:00",
         "36",
         "Banamex Reintentos                                ",
         "2.0",
         "noAplica",
         "No aplica",
         "2561.0"
        ],
        [
         "18",
         "107153",
         "408312",
         "12",
         "321.27",
         "321.27",
         "321.27",
         "2022-12-14 00:00:00",
         "00",
         "2",
         "0",
         "2",
         "50624.08",
         "20000.0",
         "2017-10-30 00:00:00",
         "79",
         "Bancomer Tradicional                              ",
         "12.0",
         "7167",
         "Tradicional",
         "2764.0"
        ],
        [
         "19",
         "107520",
         "426945",
         "2",
         "438.6",
         "438.6",
         "438.6",
         "2022-12-19 00:00:00",
         "00",
         "10",
         "0",
         "8",
         "22807.2",
         "11210.0",
         "2018-03-08 00:00:00",
         "51",
         "Banamex Excepciones Cuenta                        ",
         "2.0",
         "noAplica",
         "No aplica",
         "2635.0"
        ],
        [
         "20",
         "105585",
         "634546",
         "2",
         "336.63",
         "336.63",
         "336.63",
         "2022-11-25 00:00:00",
         "00",
         "5",
         "0",
         "3",
         "41451.84",
         "18400.0",
         "2022-08-31 00:00:00",
         "23",
         "BBVA CLABE PARCIAL",
         "12.0",
         "6111",
         "Parcial",
         "998.0"
        ],
        [
         "21",
         "105816",
         "475098",
         "2",
         "199.0",
         "199.0",
         "199.0",
         "2022-11-29 00:00:00",
         "00",
         "3",
         "0",
         "3",
         "14327.29",
         "6360.0",
         "2019-02-21 00:00:00",
         "36",
         "Banamex Reintentos                                ",
         "2.0",
         "noAplica",
         "No aplica",
         "2285.0"
        ],
        [
         "22",
         "105580",
         "633196",
         "12",
         "227.98",
         "227.98",
         "227.98",
         "2022-11-25 00:00:00",
         "00",
         "3",
         "0",
         "3",
         "16414.56",
         "8198.0",
         "2022-08-17 00:00:00",
         "79",
         "Bancomer Tradicional                              ",
         "12.0",
         "7167",
         "Tradicional",
         "1012.0"
        ],
        [
         "23",
         "107088",
         "511674",
         "2",
         "78.22",
         "78.22",
         "78.22",
         "2022-12-14 00:00:00",
         "00",
         "2",
         "0",
         "1",
         "5631.84",
         "2499.93",
         "2019-09-18 00:00:00",
         "36",
         "Banamex Reintentos                                ",
         "2.0",
         "noAplica",
         "No aplica",
         "2076.0"
        ],
        [
         "24",
         "101459",
         "546076",
         "12",
         "207.61",
         "207.61",
         "207.61",
         "2022-10-11 00:00:00",
         "00",
         "1",
         "0",
         "1",
         "9965.28",
         "5600.0",
         "2020-05-14 00:00:00",
         "79",
         "Bancomer Tradicional                              ",
         "12.0",
         "7167",
         "Tradicional",
         "1837.0"
        ],
        [
         "25",
         "85756",
         "573546",
         "12",
         "983.65",
         "983.65",
         "983.65",
         "2022-03-24 00:00:00",
         "00",
         "1",
         "0",
         "1",
         "47215.19",
         "19738.8",
         "2020-11-10 00:00:00",
         "19",
         "BBVA CLABE MATUTINO",
         "12.0",
         "6114",
         "matutino",
         "1657.0"
        ],
        [
         "26",
         "101459",
         "535770",
         "12",
         "542.91",
         "542.91",
         "542.91",
         "2022-10-11 00:00:00",
         "00",
         "5",
         "0",
         "5",
         "39089.52",
         "17351.53",
         "2020-02-20 00:00:00",
         "79",
         "Bancomer Tradicional                              ",
         "12.0",
         "7167",
         "Tradicional",
         "1921.0"
        ],
        [
         "27",
         "105584",
         "620306",
         "14",
         "200.0",
         "200.0",
         "200.0",
         "2022-11-28 00:00:00",
         "00",
         "6",
         "0",
         "6",
         "51603.84",
         "17500.0",
         "2022-04-13 00:00:00",
         "21",
         "BBVA CLABE EN LINEA",
         "12.0",
         "7455",
         "En linea",
         "1138.0"
        ],
        [
         "28",
         "102918",
         "415600",
         "12",
         "512.83",
         "512.83",
         "512.83",
         "2022-10-26 00:00:00",
         "00",
         "4",
         "0",
         "4",
         "49231.68",
         "16695.5",
         "2017-12-26 00:00:00",
         "79",
         "Bancomer Tradicional                              ",
         "12.0",
         "7167",
         "Tradicional",
         "2707.0"
        ],
        [
         "29",
         "101327",
         "619676",
         "12",
         "299.1",
         "299.1",
         "299.1",
         "2022-10-11 00:00:00",
         "00",
         "3",
         "0",
         "3",
         "25755.85",
         "11433.0",
         "2022-04-06 00:00:00",
         "79",
         "Bancomer Tradicional                              ",
         "12.0",
         "7167",
         "Tradicional",
         "1145.0"
        ],
        [
         "30",
         "101459",
         "456074",
         "12",
         "576.72",
         "576.72",
         "576.72",
         "2022-10-11 00:00:00",
         "00",
         "4",
         "0",
         "4",
         "46137.6",
         "22627.17",
         "2018-09-10 00:00:00",
         "79",
         "Bancomer Tradicional                              ",
         "12.0",
         "7167",
         "Tradicional",
         "2449.0"
        ],
        [
         "31",
         "108225",
         "533030",
         "2",
         "477.17",
         "477.17",
         "477.17",
         "2022-12-28 00:00:00",
         "00",
         "2",
         "0",
         "1",
         "34356.24",
         "15250.46",
         "2020-01-31 00:00:00",
         "36",
         "Banamex Reintentos                                ",
         "2.0",
         "noAplica",
         "No aplica",
         "1941.0"
        ],
        [
         "32",
         "101459",
         "616305",
         "12",
         "188.51",
         "188.51",
         "188.51",
         "2022-10-11 00:00:00",
         "00",
         "4",
         "0",
         "4",
         "9048.48",
         "4583.0",
         "2022-03-07 00:00:00",
         "79",
         "Bancomer Tradicional                              ",
         "12.0",
         "7167",
         "Tradicional",
         "1175.0"
        ],
        [
         "33",
         "85821",
         "586135",
         "2",
         "1202.24",
         "1202.24",
         "1202.24",
         "2022-03-25 00:00:00",
         "00",
         "1",
         "0",
         "1",
         "57707.52",
         "22000.0",
         "2021-04-27 00:00:00",
         "23",
         "BBVA CLABE PARCIAL",
         "12.0",
         "6111",
         "Parcial",
         "1489.0"
        ],
        [
         "34",
         "106683",
         "572488",
         "14",
         "317.96",
         "317.96",
         "317.96",
         "2022-12-09 00:00:00",
         "00",
         "3",
         "0",
         "2",
         "22893.12",
         "10162.08",
         "2020-10-26 00:00:00",
         "21",
         "BBVA CLABE EN LINEA",
         "12.0",
         "7455",
         "En linea",
         "1672.0"
        ],
        [
         "35",
         "101518",
         "156302",
         "14",
         "111.28",
         "111.28",
         "111.28",
         "2022-10-13 00:00:00",
         "00",
         "4",
         "0",
         "4",
         "8012.16",
         "3369.0",
         "2014-12-08 00:00:00",
         "21",
         "BBVA CLABE EN LINEA",
         "12.0",
         "7455",
         "En linea",
         "3821.0"
        ],
        [
         "36",
         "105633",
         "628478",
         "2",
         "411.97",
         "411.97",
         "411.97",
         "2022-11-28 00:00:00",
         "00",
         "1",
         "0",
         "1",
         "19774.56",
         "13332.0",
         "2022-07-05 00:00:00",
         "36",
         "Banamex Reintentos                                ",
         "2.0",
         "noAplica",
         "No aplica",
         "1055.0"
        ],
        [
         "37",
         "104288",
         "577128",
         "14",
         "323.07",
         "323.07",
         "323.07",
         "2022-11-09 00:00:00",
         "00",
         "6",
         "0",
         "6",
         "31014.71",
         "13500.0",
         "2020-12-29 00:00:00",
         "21",
         "BBVA CLABE EN LINEA",
         "12.0",
         "7455",
         "En linea",
         "1608.0"
        ],
        [
         "38",
         "85819",
         "581884",
         "72",
         "483.75",
         "483.75",
         "483.75",
         "2022-03-25 00:00:00",
         "00",
         "1",
         "0",
         "1",
         "23220.0",
         "11407.0",
         "2021-03-05 00:00:00",
         "25",
         "BBVA CLABE INTERBANCARIA",
         "12.0",
         "7167",
         "Interbancario",
         "1542.0"
        ],
        [
         "39",
         "102919",
         "334412",
         "72",
         "285.23",
         "285.23",
         "285.23",
         "2022-10-26 00:00:00",
         "00",
         "2",
         "0",
         "2",
         "27382.08",
         "10700.0",
         "2016-06-09 00:00:00",
         "25",
         "BBVA CLABE INTERBANCARIA",
         "12.0",
         "7167",
         "Interbancario",
         "3272.0"
        ],
        [
         "40",
         "106678",
         "599242",
         "12",
         "944.54",
         "944.54",
         "944.54",
         "2022-12-08 00:00:00",
         "00",
         "4",
         "0",
         "3",
         "68006.88",
         "27627.1",
         "2021-08-16 00:00:00",
         "79",
         "Bancomer Tradicional                              ",
         "12.0",
         "7167",
         "Tradicional",
         "1378.0"
        ],
        [
         "41",
         "105656",
         "588940",
         "72",
         "521.39",
         "521.39",
         "521.39",
         "2022-11-28 00:00:00",
         "00",
         "2",
         "0",
         "2",
         "45056.16",
         "20000.0",
         "2021-05-20 00:00:00",
         "25",
         "BBVA CLABE INTERBANCARIA",
         "12.0",
         "7167",
         "Interbancario",
         "1466.0"
        ],
        [
         "42",
         "85821",
         "585394",
         "2",
         "627.64",
         "627.64",
         "627.64",
         "2022-03-25 00:00:00",
         "00",
         "1",
         "0",
         "1",
         "30126.72",
         "14800.0",
         "2021-04-20 00:00:00",
         "23",
         "BBVA CLABE PARCIAL",
         "12.0",
         "6111",
         "Parcial",
         "1496.0"
        ],
        [
         "43",
         "105654",
         "631198",
         "14",
         "937.1",
         "937.1",
         "937.1",
         "2022-11-29 00:00:00",
         "00",
         "5",
         "0",
         "5",
         "59232.0",
         "30000.0",
         "2022-08-02 00:00:00",
         "21",
         "BBVA CLABE EN LINEA",
         "12.0",
         "7455",
         "En linea",
         "1027.0"
        ],
        [
         "44",
         "102918",
         "616829",
         "12",
         "500.62",
         "500.62",
         "500.62",
         "2022-10-26 00:00:00",
         "00",
         "4",
         "0",
         "4",
         "36044.64",
         "16000.0",
         "2022-03-11 00:00:00",
         "79",
         "Bancomer Tradicional                              ",
         "12.0",
         "7167",
         "Tradicional",
         "1171.0"
        ],
        [
         "45",
         "104407",
         "621522",
         "2",
         "1435.29",
         "1435.29",
         "1435.29",
         "2022-11-10 00:00:00",
         "00",
         "10",
         "0",
         "6",
         "127650.96",
         "60000.0",
         "2022-04-27 00:00:00",
         "36",
         "Banamex Reintentos                                ",
         "2.0",
         "noAplica",
         "No aplica",
         "1124.0"
        ],
        [
         "46",
         "108095",
         "612997",
         "72",
         "764.67",
         "764.67",
         "764.67",
         "2022-12-27 00:00:00",
         "00",
         "5",
         "0",
         "4",
         "73408.32",
         "27489.63",
         "2022-02-08 00:00:00",
         "25",
         "BBVA CLABE INTERBANCARIA",
         "12.0",
         "7167",
         "Interbancario",
         "1202.0"
        ],
        [
         "47",
         "106678",
         "525637",
         "12",
         "1075.59",
         "1075.59",
         "1075.59",
         "2022-12-08 00:00:00",
         "00",
         "11",
         "2",
         "11",
         "51628.32",
         "23211.13",
         "2019-11-30 00:00:00",
         "79",
         "Bancomer Tradicional                              ",
         "12.0",
         "7167",
         "Tradicional",
         "2003.0"
        ],
        [
         "48",
         "107937",
         "633378",
         "14",
         "1429.99",
         "1429.99",
         "1429.99",
         "2022-12-26 00:00:00",
         "00",
         "8",
         "0",
         "8",
         "137279.04",
         "54838.0",
         "2022-08-19 00:00:00",
         "21",
         "BBVA CLABE EN LINEA",
         "12.0",
         "7455",
         "En linea",
         "1010.0"
        ],
        [
         "49",
         "102917",
         "625849",
         "14",
         "283.97",
         "283.97",
         "283.97",
         "2022-10-26 00:00:00",
         "00",
         "3",
         "0",
         "3",
         "20445.84",
         "8306.0",
         "2022-06-11 00:00:00",
         "21",
         "BBVA CLABE EN LINEA",
         "12.0",
         "7455",
         "En linea",
         "1079.0"
        ]
       ],
       "shape": {
        "columns": 20,
        "rows": 78275
       }
      },
      "text/html": [
       "<div>\n",
       "<style scoped>\n",
       "    .dataframe tbody tr th:only-of-type {\n",
       "        vertical-align: middle;\n",
       "    }\n",
       "\n",
       "    .dataframe tbody tr th {\n",
       "        vertical-align: top;\n",
       "    }\n",
       "\n",
       "    .dataframe thead th {\n",
       "        text-align: right;\n",
       "    }\n",
       "</style>\n",
       "<table border=\"1\" class=\"dataframe\">\n",
       "  <thead>\n",
       "    <tr style=\"text-align: right;\">\n",
       "      <th></th>\n",
       "      <th>idListaCobro</th>\n",
       "      <th>idCredito</th>\n",
       "      <th>idBanco</th>\n",
       "      <th>montoExigible</th>\n",
       "      <th>montoCobrar</th>\n",
       "      <th>montoCobrado</th>\n",
       "      <th>fechaCobroBanco</th>\n",
       "      <th>idRespuestaBanco</th>\n",
       "      <th>numIntentosTot</th>\n",
       "      <th>numIntentosTot_2024</th>\n",
       "      <th>numIntentosExitosos</th>\n",
       "      <th>pagare</th>\n",
       "      <th>capital</th>\n",
       "      <th>fechaAperturaCredito</th>\n",
       "      <th>idEmisora</th>\n",
       "      <th>Nombre</th>\n",
       "      <th>IdBanco</th>\n",
       "      <th>Emisora</th>\n",
       "      <th>Servicio</th>\n",
       "      <th>antiguedad</th>\n",
       "    </tr>\n",
       "  </thead>\n",
       "  <tbody>\n",
       "    <tr>\n",
       "      <th>0</th>\n",
       "      <td>105654</td>\n",
       "      <td>526955</td>\n",
       "      <td>14</td>\n",
       "      <td>312.89</td>\n",
       "      <td>312.89</td>\n",
       "      <td>312.89</td>\n",
       "      <td>2022-11-30</td>\n",
       "      <td>00</td>\n",
       "      <td>2</td>\n",
       "      <td>0</td>\n",
       "      <td>2</td>\n",
       "      <td>50216.40</td>\n",
       "      <td>20400.00</td>\n",
       "      <td>2019-12-10</td>\n",
       "      <td>21</td>\n",
       "      <td>BBVA CLABE EN LINEA</td>\n",
       "      <td>12.0</td>\n",
       "      <td>7455</td>\n",
       "      <td>En linea</td>\n",
       "      <td>1993.0</td>\n",
       "    </tr>\n",
       "    <tr>\n",
       "      <th>1</th>\n",
       "      <td>103235</td>\n",
       "      <td>550653</td>\n",
       "      <td>2</td>\n",
       "      <td>185.37</td>\n",
       "      <td>185.37</td>\n",
       "      <td>185.37</td>\n",
       "      <td>2022-10-28</td>\n",
       "      <td>00</td>\n",
       "      <td>2</td>\n",
       "      <td>0</td>\n",
       "      <td>1</td>\n",
       "      <td>8897.76</td>\n",
       "      <td>5000.00</td>\n",
       "      <td>2020-07-02</td>\n",
       "      <td>36</td>\n",
       "      <td>Banamex Reintentos                            ...</td>\n",
       "      <td>2.0</td>\n",
       "      <td>noAplica</td>\n",
       "      <td>No aplica</td>\n",
       "      <td>1788.0</td>\n",
       "    </tr>\n",
       "    <tr>\n",
       "      <th>2</th>\n",
       "      <td>105584</td>\n",
       "      <td>636937</td>\n",
       "      <td>14</td>\n",
       "      <td>222.53</td>\n",
       "      <td>222.53</td>\n",
       "      <td>222.53</td>\n",
       "      <td>2022-11-28</td>\n",
       "      <td>00</td>\n",
       "      <td>4</td>\n",
       "      <td>0</td>\n",
       "      <td>3</td>\n",
       "      <td>21362.88</td>\n",
       "      <td>8000.00</td>\n",
       "      <td>2022-09-26</td>\n",
       "      <td>21</td>\n",
       "      <td>BBVA CLABE EN LINEA</td>\n",
       "      <td>12.0</td>\n",
       "      <td>7455</td>\n",
       "      <td>En linea</td>\n",
       "      <td>972.0</td>\n",
       "    </tr>\n",
       "    <tr>\n",
       "      <th>3</th>\n",
       "      <td>105585</td>\n",
       "      <td>368415</td>\n",
       "      <td>2</td>\n",
       "      <td>433.37</td>\n",
       "      <td>433.37</td>\n",
       "      <td>433.37</td>\n",
       "      <td>2022-11-25</td>\n",
       "      <td>00</td>\n",
       "      <td>5</td>\n",
       "      <td>0</td>\n",
       "      <td>2</td>\n",
       "      <td>41603.52</td>\n",
       "      <td>17909.33</td>\n",
       "      <td>2017-01-27</td>\n",
       "      <td>23</td>\n",
       "      <td>BBVA CLABE PARCIAL</td>\n",
       "      <td>12.0</td>\n",
       "      <td>6111</td>\n",
       "      <td>Parcial</td>\n",
       "      <td>3040.0</td>\n",
       "    </tr>\n",
       "    <tr>\n",
       "      <th>4</th>\n",
       "      <td>102916</td>\n",
       "      <td>402225</td>\n",
       "      <td>2</td>\n",
       "      <td>683.26</td>\n",
       "      <td>683.26</td>\n",
       "      <td>683.26</td>\n",
       "      <td>2022-10-26</td>\n",
       "      <td>00</td>\n",
       "      <td>6</td>\n",
       "      <td>0</td>\n",
       "      <td>6</td>\n",
       "      <td>81991.20</td>\n",
       "      <td>29998.47</td>\n",
       "      <td>2017-09-26</td>\n",
       "      <td>23</td>\n",
       "      <td>BBVA CLABE PARCIAL</td>\n",
       "      <td>12.0</td>\n",
       "      <td>6111</td>\n",
       "      <td>Parcial</td>\n",
       "      <td>2798.0</td>\n",
       "    </tr>\n",
       "    <tr>\n",
       "      <th>...</th>\n",
       "      <td>...</td>\n",
       "      <td>...</td>\n",
       "      <td>...</td>\n",
       "      <td>...</td>\n",
       "      <td>...</td>\n",
       "      <td>...</td>\n",
       "      <td>...</td>\n",
       "      <td>...</td>\n",
       "      <td>...</td>\n",
       "      <td>...</td>\n",
       "      <td>...</td>\n",
       "      <td>...</td>\n",
       "      <td>...</td>\n",
       "      <td>...</td>\n",
       "      <td>...</td>\n",
       "      <td>...</td>\n",
       "      <td>...</td>\n",
       "      <td>...</td>\n",
       "      <td>...</td>\n",
       "      <td>...</td>\n",
       "    </tr>\n",
       "    <tr>\n",
       "      <th>79995</th>\n",
       "      <td>158151</td>\n",
       "      <td>738629</td>\n",
       "      <td>12</td>\n",
       "      <td>859.09</td>\n",
       "      <td>859.09</td>\n",
       "      <td>0.00</td>\n",
       "      <td>NaT</td>\n",
       "      <td>04</td>\n",
       "      <td>3</td>\n",
       "      <td>0</td>\n",
       "      <td>1</td>\n",
       "      <td>44672.68</td>\n",
       "      <td>15900.00</td>\n",
       "      <td>2024-12-18</td>\n",
       "      <td>6</td>\n",
       "      <td>BBVA TRADICIONAL REINTENTO</td>\n",
       "      <td>12.0</td>\n",
       "      <td>REINTENTO</td>\n",
       "      <td>Tradicional</td>\n",
       "      <td>158.0</td>\n",
       "    </tr>\n",
       "    <tr>\n",
       "      <th>79996</th>\n",
       "      <td>161095</td>\n",
       "      <td>714970</td>\n",
       "      <td>2</td>\n",
       "      <td>128.77</td>\n",
       "      <td>128.77</td>\n",
       "      <td>0.00</td>\n",
       "      <td>NaT</td>\n",
       "      <td>04</td>\n",
       "      <td>6</td>\n",
       "      <td>0</td>\n",
       "      <td>0</td>\n",
       "      <td>30905.28</td>\n",
       "      <td>11000.00</td>\n",
       "      <td>2024-07-12</td>\n",
       "      <td>1</td>\n",
       "      <td>BANAMEX CLABE TRADICIONAL</td>\n",
       "      <td>2.0</td>\n",
       "      <td>NoAplica</td>\n",
       "      <td>Tradicional</td>\n",
       "      <td>317.0</td>\n",
       "    </tr>\n",
       "    <tr>\n",
       "      <th>79997</th>\n",
       "      <td>156800</td>\n",
       "      <td>686598</td>\n",
       "      <td>72</td>\n",
       "      <td>549.63</td>\n",
       "      <td>549.63</td>\n",
       "      <td>0.00</td>\n",
       "      <td>NaT</td>\n",
       "      <td>04</td>\n",
       "      <td>2</td>\n",
       "      <td>1</td>\n",
       "      <td>1</td>\n",
       "      <td>87940.32</td>\n",
       "      <td>31300.00</td>\n",
       "      <td>2023-11-28</td>\n",
       "      <td>12</td>\n",
       "      <td>BANORTE CLABE TRADICIONAL</td>\n",
       "      <td>72.0</td>\n",
       "      <td>496</td>\n",
       "      <td>Tradicional</td>\n",
       "      <td>544.0</td>\n",
       "    </tr>\n",
       "    <tr>\n",
       "      <th>79998</th>\n",
       "      <td>159013</td>\n",
       "      <td>729437</td>\n",
       "      <td>2</td>\n",
       "      <td>1755.99</td>\n",
       "      <td>1755.99</td>\n",
       "      <td>0.00</td>\n",
       "      <td>NaT</td>\n",
       "      <td>04</td>\n",
       "      <td>8</td>\n",
       "      <td>1</td>\n",
       "      <td>3</td>\n",
       "      <td>84287.52</td>\n",
       "      <td>30000.00</td>\n",
       "      <td>2024-10-09</td>\n",
       "      <td>1</td>\n",
       "      <td>BANAMEX CLABE TRADICIONAL</td>\n",
       "      <td>2.0</td>\n",
       "      <td>NoAplica</td>\n",
       "      <td>Tradicional</td>\n",
       "      <td>228.0</td>\n",
       "    </tr>\n",
       "    <tr>\n",
       "      <th>79999</th>\n",
       "      <td>157218</td>\n",
       "      <td>727908</td>\n",
       "      <td>2</td>\n",
       "      <td>599.21</td>\n",
       "      <td>599.21</td>\n",
       "      <td>0.00</td>\n",
       "      <td>NaT</td>\n",
       "      <td>04</td>\n",
       "      <td>1</td>\n",
       "      <td>0</td>\n",
       "      <td>0</td>\n",
       "      <td>57524.16</td>\n",
       "      <td>22000.12</td>\n",
       "      <td>2024-09-27</td>\n",
       "      <td>1</td>\n",
       "      <td>BANAMEX CLABE TRADICIONAL</td>\n",
       "      <td>2.0</td>\n",
       "      <td>NoAplica</td>\n",
       "      <td>Tradicional</td>\n",
       "      <td>240.0</td>\n",
       "    </tr>\n",
       "  </tbody>\n",
       "</table>\n",
       "<p>78275 rows × 20 columns</p>\n",
       "</div>"
      ],
      "text/plain": [
       "       idListaCobro  idCredito  idBanco  montoExigible  montoCobrar  \\\n",
       "0            105654     526955       14         312.89       312.89   \n",
       "1            103235     550653        2         185.37       185.37   \n",
       "2            105584     636937       14         222.53       222.53   \n",
       "3            105585     368415        2         433.37       433.37   \n",
       "4            102916     402225        2         683.26       683.26   \n",
       "...             ...        ...      ...            ...          ...   \n",
       "79995        158151     738629       12         859.09       859.09   \n",
       "79996        161095     714970        2         128.77       128.77   \n",
       "79997        156800     686598       72         549.63       549.63   \n",
       "79998        159013     729437        2        1755.99      1755.99   \n",
       "79999        157218     727908        2         599.21       599.21   \n",
       "\n",
       "       montoCobrado fechaCobroBanco idRespuestaBanco  numIntentosTot  \\\n",
       "0            312.89      2022-11-30               00               2   \n",
       "1            185.37      2022-10-28               00               2   \n",
       "2            222.53      2022-11-28               00               4   \n",
       "3            433.37      2022-11-25               00               5   \n",
       "4            683.26      2022-10-26               00               6   \n",
       "...             ...             ...              ...             ...   \n",
       "79995          0.00             NaT               04               3   \n",
       "79996          0.00             NaT               04               6   \n",
       "79997          0.00             NaT               04               2   \n",
       "79998          0.00             NaT               04               8   \n",
       "79999          0.00             NaT               04               1   \n",
       "\n",
       "       numIntentosTot_2024  numIntentosExitosos    pagare   capital  \\\n",
       "0                        0                    2  50216.40  20400.00   \n",
       "1                        0                    1   8897.76   5000.00   \n",
       "2                        0                    3  21362.88   8000.00   \n",
       "3                        0                    2  41603.52  17909.33   \n",
       "4                        0                    6  81991.20  29998.47   \n",
       "...                    ...                  ...       ...       ...   \n",
       "79995                    0                    1  44672.68  15900.00   \n",
       "79996                    0                    0  30905.28  11000.00   \n",
       "79997                    1                    1  87940.32  31300.00   \n",
       "79998                    1                    3  84287.52  30000.00   \n",
       "79999                    0                    0  57524.16  22000.12   \n",
       "\n",
       "      fechaAperturaCredito  idEmisora  \\\n",
       "0               2019-12-10         21   \n",
       "1               2020-07-02         36   \n",
       "2               2022-09-26         21   \n",
       "3               2017-01-27         23   \n",
       "4               2017-09-26         23   \n",
       "...                    ...        ...   \n",
       "79995           2024-12-18          6   \n",
       "79996           2024-07-12          1   \n",
       "79997           2023-11-28         12   \n",
       "79998           2024-10-09          1   \n",
       "79999           2024-09-27          1   \n",
       "\n",
       "                                                  Nombre  IdBanco    Emisora  \\\n",
       "0                                    BBVA CLABE EN LINEA     12.0       7455   \n",
       "1      Banamex Reintentos                            ...      2.0   noAplica   \n",
       "2                                    BBVA CLABE EN LINEA     12.0       7455   \n",
       "3                                     BBVA CLABE PARCIAL     12.0       6111   \n",
       "4                                     BBVA CLABE PARCIAL     12.0       6111   \n",
       "...                                                  ...      ...        ...   \n",
       "79995                         BBVA TRADICIONAL REINTENTO     12.0  REINTENTO   \n",
       "79996                          BANAMEX CLABE TRADICIONAL      2.0   NoAplica   \n",
       "79997                          BANORTE CLABE TRADICIONAL     72.0        496   \n",
       "79998                          BANAMEX CLABE TRADICIONAL      2.0   NoAplica   \n",
       "79999                          BANAMEX CLABE TRADICIONAL      2.0   NoAplica   \n",
       "\n",
       "          Servicio  antiguedad  \n",
       "0         En linea      1993.0  \n",
       "1        No aplica      1788.0  \n",
       "2         En linea       972.0  \n",
       "3          Parcial      3040.0  \n",
       "4          Parcial      2798.0  \n",
       "...            ...         ...  \n",
       "79995  Tradicional       158.0  \n",
       "79996  Tradicional       317.0  \n",
       "79997  Tradicional       544.0  \n",
       "79998  Tradicional       228.0  \n",
       "79999  Tradicional       240.0  \n",
       "\n",
       "[78275 rows x 20 columns]"
      ]
     },
     "execution_count": 99,
     "metadata": {},
     "output_type": "execute_result"
    }
   ],
   "source": [
    "df.drop(columns=[\"idcredito\"])"
   ]
  },
  {
   "cell_type": "code",
   "execution_count": 100,
   "id": "71eb3626",
   "metadata": {},
   "outputs": [
    {
     "data": {
      "text/plain": [
       "(78275, 21)"
      ]
     },
     "execution_count": 100,
     "metadata": {},
     "output_type": "execute_result"
    }
   ],
   "source": [
    "df.shape"
   ]
  },
  {
   "cell_type": "markdown",
   "id": "9986222f",
   "metadata": {},
   "source": [
    "## Pago Relativo en el ciclo"
   ]
  },
  {
   "cell_type": "code",
   "execution_count": 101,
   "id": "e899eb14",
   "metadata": {},
   "outputs": [],
   "source": [
    "df['porcentaje_pagado'] = df['montoCobrado'] / df['pagare']\n",
    "df['esExitoso'] = (df['montoCobrado'] > 0).astype(int)  # target binario"
   ]
  },
  {
   "cell_type": "markdown",
   "id": "1628efb4",
   "metadata": {},
   "source": [
    "## Random Forest Generico"
   ]
  },
  {
   "cell_type": "code",
   "execution_count": 102,
   "id": "33277582",
   "metadata": {},
   "outputs": [],
   "source": [
    "features = [\n",
    "    'capital', 'pagare', 'antiguedad',\n",
    "    'idBanco', 'Servicio', 'idEmisora'\n",
    "]\n",
    "target = 'esExitoso'"
   ]
  },
  {
   "cell_type": "code",
   "execution_count": 103,
   "id": "9afc95e9",
   "metadata": {},
   "outputs": [
    {
     "name": "stdout",
     "output_type": "stream",
     "text": [
      "Accuracy en validación: 0.800127754710955\n"
     ]
    }
   ],
   "source": [
    "# Dividir datos\n",
    "X = df[features]\n",
    "y = df[target]\n",
    "\n",
    "# Columnas categóricas\n",
    "cat_cols = ['idBanco', 'Servicio', 'idEmisora']\n",
    "num_cols = ['capital', 'pagare', 'antiguedad']\n",
    "\n",
    "# Pipeline de preprocesamiento\n",
    "preprocessor = ColumnTransformer([\n",
    "    ('num', 'passthrough', num_cols),\n",
    "    ('cat', OneHotEncoder(handle_unknown='ignore'), cat_cols)\n",
    "])\n",
    "\n",
    "# Modelo\n",
    "model = make_pipeline(preprocessor, RandomForestClassifier(n_estimators=100, random_state=42))\n",
    "\n",
    "# Entrenamiento\n",
    "X_train, X_test, y_train, y_test = train_test_split(X, y, test_size=0.2, random_state=42)\n",
    "model.fit(X_train, y_train)\n",
    "\n",
    "print(\"Accuracy en validación:\", model.score(X_test, y_test))"
   ]
  },
  {
   "cell_type": "code",
   "execution_count": 104,
   "id": "68774e47",
   "metadata": {},
   "outputs": [
    {
     "data": {
      "text/plain": [
       "<sklearn.metrics._plot.confusion_matrix.ConfusionMatrixDisplay at 0x1c7542e9780>"
      ]
     },
     "execution_count": 104,
     "metadata": {},
     "output_type": "execute_result"
    },
    {
     "data": {
      "image/png": "[encoded data removed]",
      "text/plain": [
       "<Figure size 640x480 with 2 Axes>"
      ]
     },
     "metadata": {},
     "output_type": "display_data"
    }
   ],
   "source": [
    "# Predecir en el conjunto de prueba\n",
    "y_pred = model.predict(X_test)\n",
    "\n",
    "# Calcular matriz de confusión\n",
    "cm = confusion_matrix(y_test, y_pred)\n",
    "\n",
    "# Mostrar matriz de confusión\n",
    "disp = ConfusionMatrixDisplay(confusion_matrix=cm)\n",
    "disp.plot()"
   ]
  },
  {
   "cell_type": "code",
   "execution_count": 105,
   "id": "8ce41bcc",
   "metadata": {},
   "outputs": [
    {
     "name": "stdout",
     "output_type": "stream",
     "text": [
      "F1 Score: 0.8061938680706101\n"
     ]
    }
   ],
   "source": [
    "f1 = f1_score(y_test, y_pred)\n",
    "print(\"F1 Score:\", f1)"
   ]
  },
  {
   "cell_type": "code",
   "execution_count": 106,
   "id": "db48d8c5",
   "metadata": {},
   "outputs": [
    {
     "data": {
      "application/vnd.microsoft.datawrangler.viewer.v0+json": {
       "columns": [
        {
         "name": "IdBanco",
         "rawType": "float64",
         "type": "float"
        },
        {
         "name": "count",
         "rawType": "int64",
         "type": "integer"
        }
       ],
       "ref": "4a6f15f8-97aa-4978-8c23-e4fe8c6de0bc",
       "rows": [
        [
         "12.0",
         "38271"
        ],
        [
         "2.0",
         "27279"
        ],
        [
         "14.0",
         "9991"
        ],
        [
         "72.0",
         "2734"
        ]
       ],
       "shape": {
        "columns": 1,
        "rows": 4
       }
      },
      "text/plain": [
       "IdBanco\n",
       "12.0    38271\n",
       "2.0     27279\n",
       "14.0     9991\n",
       "72.0     2734\n",
       "Name: count, dtype: int64"
      ]
     },
     "execution_count": 106,
     "metadata": {},
     "output_type": "execute_result"
    }
   ],
   "source": [
    "df['IdBanco'].value_counts()"
   ]
  },
  {
   "cell_type": "markdown",
   "id": "a9aefa06",
   "metadata": {},
   "source": [
    "## Guardar modelo"
   ]
  },
  {
   "cell_type": "code",
   "execution_count": 107,
   "id": "3251f55b",
   "metadata": {},
   "outputs": [],
   "source": [
    "with open(\"model.pkl\", \"wb\") as f:\n",
    "    pickle.dump(model, f)"
   ]
  },
  {
   "cell_type": "markdown",
   "id": "dab29535",
   "metadata": {},
   "source": [
    "## Predicción de mejor combinacion"
   ]
  },
  {
   "cell_type": "code",
   "execution_count": 108,
   "id": "9686ece3",
   "metadata": {},
   "outputs": [
    {
     "name": "stdout",
     "output_type": "stream",
     "text": [
      "[ 14   2  72  12  21  36  44 127  62 131  30 166  58 137 132]\n"
     ]
    }
   ],
   "source": [
    "# Listas posibles (basadas en los valores históricos del dataset)\n",
    "bancos = df['idBanco'].unique()\n",
    "servicios = df['Servicio'].unique()\n",
    "emisoras = df['idEmisora'].unique()\n",
    "\n",
    "# Generar todas las combinaciones posibles\n",
    "combinaciones = list(product(bancos, servicios, emisoras))\n",
    "print(bancos)"
   ]
  },
  {
   "cell_type": "code",
   "execution_count": 109,
   "id": "c55f1dd6",
   "metadata": {},
   "outputs": [],
   "source": [
    "# Características del crédito\n",
    "base_credito = {\n",
    "    'capital': 12000,\n",
    "    'pagare': 15000,\n",
    "    'antiguedad': 90\n",
    "}"
   ]
  },
  {
   "cell_type": "code",
   "execution_count": 110,
   "id": "200a9921",
   "metadata": {},
   "outputs": [],
   "source": [
    "# Expandir ese crédito con cada combinación posible\n",
    "data = []\n",
    "for banco, servicio, emisoras in combinaciones:\n",
    "    row = base_credito.copy()\n",
    "    row.update({'idBanco': banco, 'Servicio': servicio, 'idEmisora': emisoras})\n",
    "    data.append(row)\n",
    "\n",
    "df_combos = pd.DataFrame(data)"
   ]
  },
  {
   "cell_type": "code",
   "execution_count": 111,
   "id": "54b4281c",
   "metadata": {},
   "outputs": [],
   "source": [
    "# Predecir con el modelo\n",
    "probas = model.predict_proba(df_combos)\n",
    "df_combos['proba_exito'] = probas[:, 1]"
   ]
  },
  {
   "cell_type": "code",
   "execution_count": 112,
   "id": "0219b3da",
   "metadata": {},
   "outputs": [
    {
     "name": "stdout",
     "output_type": "stream",
     "text": [
      "Mejor combinación recomendada:\n",
      "     idBanco Servicio  idEmisora  proba_exito\n",
      "542       12  Parcial         23         0.96\n"
     ]
    }
   ],
   "source": [
    "# Ordenar y mostrar la mejor combinación\n",
    "mejor = df_combos.sort_values(by='proba_exito', ascending=False).head(1)\n",
    "print(\"Mejor combinación recomendada:\")\n",
    "print(mejor[['idBanco', 'Servicio', 'idEmisora','proba_exito']])"
   ]
  },
  {
   "cell_type": "markdown",
   "id": "8d9164ee",
   "metadata": {},
   "source": [
    "## Prediccion de las mejores 5 combinaciones"
   ]
  },
  {
   "cell_type": "code",
   "execution_count": 113,
   "id": "b20ec5c8",
   "metadata": {},
   "outputs": [
    {
     "name": "stdout",
     "output_type": "stream",
     "text": [
      "Top 5 combinaciones recomendadas:\n",
      "     idBanco     Servicio  idEmisora  proba_exito\n",
      "542       12      Parcial         23        0.960\n",
      "561       12      Parcial         17        0.960\n",
      "349       72     En linea         15        0.940\n",
      "554       12      Parcial         24        0.930\n",
      "124       14  Tradicional          9        0.926\n"
     ]
    }
   ],
   "source": [
    "# Mostrar las 5 combinaciones con mayor probabilidad de éxito\n",
    "top5 = df_combos.sort_values(by='proba_exito', ascending=False).head(5)\n",
    "print(\"Top 5 combinaciones recomendadas:\")\n",
    "print(top5[['idBanco', 'Servicio', 'idEmisora', 'proba_exito']])"
   ]
  },
  {
   "cell_type": "markdown",
   "id": "8e38b0b1",
   "metadata": {},
   "source": [
    "## Modelo regresor para predecir numero de intentos"
   ]
  },
  {
   "cell_type": "code",
   "execution_count": 114,
   "id": "46f8db89",
   "metadata": {},
   "outputs": [
    {
     "name": "stdout",
     "output_type": "stream",
     "text": [
      "MSE: 0.1659473521725359\n",
      "R2 Score: 0.8908882406445244\n"
     ]
    }
   ],
   "source": [
    "from sklearn.ensemble import RandomForestRegressor\n",
    "from sklearn.metrics import mean_squared_error, r2_score\n",
    "import pandas as pd\n",
    "\n",
    "# Variable objetivo: numIntentosTot\n",
    "target_reg = 'numIntentosTot_2024'\n",
    "\n",
    "# Selección de variables predictoras (puedes ajustar según importancia)\n",
    "features_reg = [\n",
    "    'capital', 'pagare', 'antiguedad',\n",
    "    'idBanco', 'Servicio', 'idEmisora'\n",
    "]\n",
    "\n",
    "# Preparar datos\n",
    "X_reg = df[features_reg]\n",
    "y_reg = df[target_reg]\n",
    "\n",
    "# Dividir datos\n",
    "X_train_reg, X_test_reg, y_train_reg, y_test_reg = train_test_split(X_reg, y_reg, test_size=0.2, random_state=42)\n",
    "\n",
    "# Pipeline de preprocesamiento + modelo\n",
    "model_reg = make_pipeline(\n",
    "    ColumnTransformer([\n",
    "        ('num', 'passthrough', ['capital', 'pagare', 'antiguedad']),\n",
    "        ('cat', OneHotEncoder(handle_unknown='ignore'), ['idBanco', 'Servicio', 'idEmisora'])\n",
    "    ]),\n",
    "    RandomForestRegressor(n_estimators=100, random_state=42)\n",
    ")\n",
    "\n",
    "# Entrenar modelo\n",
    "model_reg.fit(X_train_reg, y_train_reg)\n",
    "\n",
    "# Predicción y métricas\n",
    "y_pred_reg = model_reg.predict(X_test_reg)\n",
    "print(\"MSE:\", mean_squared_error(y_test_reg, y_pred_reg))\n",
    "print(\"R2 Score:\", r2_score(y_test_reg, y_pred_reg))"
   ]
  },
  {
   "cell_type": "markdown",
   "id": "502566de",
   "metadata": {},
   "source": [
    "## Guardar Modelo"
   ]
  },
  {
   "cell_type": "code",
   "execution_count": 115,
   "id": "e3b23805",
   "metadata": {},
   "outputs": [],
   "source": [
    "with open(\"model_reg.pkl\", \"wb\") as f:\n",
    "    pickle.dump(model, f)"
   ]
  },
  {
   "cell_type": "code",
   "execution_count": 116,
   "id": "406129bf",
   "metadata": {},
   "outputs": [
    {
     "name": "stdout",
     "output_type": "stream",
     "text": [
      "     idBanco     Servicio  idEmisora  proba_exito  numIntentosTot_pred\n",
      "542       12      Parcial         23        0.960                  0.0\n",
      "561       12      Parcial         17        0.960                  0.0\n",
      "349       72     En linea         15        0.940                  0.0\n",
      "554       12      Parcial         24        0.930                  0.0\n",
      "124       14  Tradicional          9        0.926                  0.0\n"
     ]
    }
   ],
   "source": [
    "top5['numIntentosTot_pred'] = model_reg.predict(top5[features_reg])\n",
    "print(top5[['idBanco', 'Servicio', 'idEmisora', 'proba_exito', 'numIntentosTot_pred']])"
   ]
  }
 ],
 "metadata": {
  "kernelspec": {
   "display_name": "Python 3",
   "language": "python",
   "name": "python3"
  },
  "language_info": {
   "codemirror_mode": {
    "name": "ipython",
    "version": 3
   },
   "file_extension": ".py",
   "mimetype": "text/x-python",
   "name": "python",
   "nbconvert_exporter": "python",
   "pygments_lexer": "ipython3",
   "version": "3.10.11"
  }
 },
 "nbformat": 4,
 "nbformat_minor": 5
}
